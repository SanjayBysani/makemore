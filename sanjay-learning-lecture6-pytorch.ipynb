{
 "cells": [
  {
   "cell_type": "markdown",
   "source": [
    "# Implementation using PyTorch NN"
   ],
   "metadata": {
    "collapsed": false
   },
   "id": "ccf86a976fd42e1f"
  },
  {
   "cell_type": "code",
   "execution_count": 1,
   "outputs": [],
   "source": [
    "import torch\n",
    "import torch.nn.functional as F\n",
    "import matplotlib.pyplot as plt # for making figures\n",
    "%matplotlib inline\n",
    "import random"
   ],
   "metadata": {
    "collapsed": false,
    "ExecuteTime": {
     "end_time": "2023-12-22T23:06:01.942979Z",
     "start_time": "2023-12-22T23:06:00.967321Z"
    }
   },
   "id": "43adb151b1ff7c"
  },
  {
   "cell_type": "code",
   "execution_count": 8,
   "outputs": [],
   "source": [
    "# read in words\n",
    "words = open('names.txt', 'r').read().splitlines()\n",
    "# shuffle up the words\n",
    "random.seed(42)\n",
    "random.shuffle(words)\n",
    "# build the vocabulary of characters and mappings to/from integers\n",
    "chars = sorted(list(set(''.join(words))))\n",
    "stoi = {s:i+1 for i,s in enumerate(chars)}\n",
    "stoi['.'] = 0\n",
    "itos = {i:s for s,i in stoi.items()}\n",
    "vocab_size = len(itos)"
   ],
   "metadata": {
    "collapsed": false,
    "ExecuteTime": {
     "end_time": "2023-12-22T23:07:14.219944Z",
     "start_time": "2023-12-22T23:07:14.203081Z"
    }
   },
   "id": "28aab3e87a8b14d5"
  },
  {
   "cell_type": "code",
   "execution_count": 51,
   "outputs": [
    {
     "name": "stdout",
     "output_type": "stream",
     "text": [
      "torch.Size([182625, 8]) torch.Size([182625])\n",
      "torch.Size([22655, 8]) torch.Size([22655])\n",
      "torch.Size([22866, 8]) torch.Size([22866])\n"
     ]
    }
   ],
   "source": [
    "# build the dataset\n",
    "block_size = 8 # context length: how many characters do we take to predict the next one?\n",
    "\n",
    "def build_dataset(words):  \n",
    "  X, Y = [], []\n",
    "  \n",
    "  for w in words:\n",
    "    context = [0] * block_size\n",
    "    for ch in w + '.':\n",
    "      ix = stoi[ch]\n",
    "      X.append(context)\n",
    "      Y.append(ix)\n",
    "      context = context[1:] + [ix] # crop and append\n",
    "\n",
    "  X = torch.tensor(X)\n",
    "  Y = torch.tensor(Y)\n",
    "  print(X.shape, Y.shape)\n",
    "  return X, Y\n",
    "\n",
    "n1 = int(0.8*len(words))\n",
    "n2 = int(0.9*len(words))\n",
    "Xtr,  Ytr  = build_dataset(words[:n1])     # 80%\n",
    "Xdev, Ydev = build_dataset(words[n1:n2])   # 10%\n",
    "Xte,  Yte  = build_dataset(words[n2:])     # 10%"
   ],
   "metadata": {
    "collapsed": false,
    "ExecuteTime": {
     "end_time": "2023-12-22T23:29:40.609171Z",
     "start_time": "2023-12-22T23:29:40.363409Z"
    }
   },
   "id": "9f8b54e99e3305d1"
  },
  {
   "cell_type": "code",
   "execution_count": 52,
   "outputs": [
    {
     "data": {
      "text/plain": "21397"
     },
     "execution_count": 52,
     "metadata": {},
     "output_type": "execute_result"
    }
   ],
   "source": [
    "# Defining the NN \n",
    "\n",
    "n_embd = 10 # number of dimensions in the character embeddings\n",
    "n_hidden = 100 # number of neurons in a hidden layer\n",
    "\n",
    "model = torch.nn.Sequential(\n",
    "    torch.nn.Embedding(vocab_size, n_embd),\n",
    "    torch.nn.Flatten(),\n",
    "    torch.nn.Linear(n_embd * block_size, n_hidden, bias=False), torch.nn.BatchNorm1d(n_hidden), torch.nn.Tanh(),\n",
    "    torch.nn.Linear(n_hidden, n_hidden, bias=False), torch.nn.BatchNorm1d(n_hidden), torch.nn.Tanh(),\n",
    "    torch.nn.Linear(n_hidden, vocab_size)\n",
    ")\n",
    "\n",
    "sum(p.nelement() for p in model.parameters())"
   ],
   "metadata": {
    "collapsed": false,
    "ExecuteTime": {
     "end_time": "2023-12-22T23:29:41.565588Z",
     "start_time": "2023-12-22T23:29:41.558466Z"
    }
   },
   "id": "2235d798c6eaa912"
  },
  {
   "cell_type": "code",
   "execution_count": 53,
   "outputs": [
    {
     "name": "stdout",
     "output_type": "stream",
     "text": [
      "      0 / 200000: 3.4362\n",
      "  10000 / 200000: 2.0477\n",
      "  20000 / 200000: 1.9263\n",
      "  30000 / 200000: 1.6227\n",
      "  40000 / 200000: 1.8152\n",
      "  50000 / 200000: 1.8642\n",
      "  60000 / 200000: 1.9910\n",
      "  70000 / 200000: 1.7276\n",
      "  80000 / 200000: 2.3470\n",
      "  90000 / 200000: 1.8395\n",
      " 100000 / 200000: 2.0605\n",
      " 110000 / 200000: 2.0377\n",
      " 120000 / 200000: 1.4708\n",
      " 130000 / 200000: 2.1613\n",
      " 140000 / 200000: 2.2262\n",
      " 150000 / 200000: 1.7572\n",
      " 160000 / 200000: 2.2245\n",
      " 170000 / 200000: 2.3912\n",
      " 180000 / 200000: 1.9936\n",
      " 190000 / 200000: 2.1376\n"
     ]
    }
   ],
   "source": [
    "n_steps = 200000\n",
    "batch_size = 32\n",
    "lossi = []\n",
    "\n",
    "for i in range(n_steps):\n",
    "    # construct minibatch\n",
    "    ix = torch.randint(0, Xtr.shape[0], (batch_size,))\n",
    "    Xb, Yb = Xtr[ix], Ytr[ix]\n",
    "    \n",
    "    # Forward pass\n",
    "    logits = model(Xb)\n",
    "\n",
    "    # Loss\n",
    "    loss = F.cross_entropy(logits, Yb)\n",
    "    \n",
    "    # Backward pass\n",
    "    for p in model.parameters():\n",
    "        p.grad = None\n",
    "    loss.backward()\n",
    "    \n",
    "    # update\n",
    "    lr = 0.1 if i < 100000 else 0.01 # step learning rate decay\n",
    "    for p in model.parameters():\n",
    "        p.data += -lr * p.grad\n",
    "    \n",
    "    # track stats\n",
    "    if i % 10000 == 0:\n",
    "        print(f'{i:7d} /{n_steps:7d}: {loss.item():.4f}')\n",
    "    lossi.append(loss.log10().item())"
   ],
   "metadata": {
    "collapsed": false,
    "ExecuteTime": {
     "end_time": "2023-12-22T23:35:00.582595Z",
     "start_time": "2023-12-22T23:29:43.055555Z"
    }
   },
   "id": "af2d216c5d07e24d"
  },
  {
   "cell_type": "code",
   "execution_count": 55,
   "outputs": [
    {
     "data": {
      "text/plain": "[<matplotlib.lines.Line2D at 0x1382ed150>]"
     },
     "execution_count": 55,
     "metadata": {},
     "output_type": "execute_result"
    },
    {
     "data": {
      "text/plain": "<Figure size 640x480 with 1 Axes>",
      "image/png": "[encoded data removed]"
     },
     "metadata": {},
     "output_type": "display_data"
    }
   ],
   "source": [
    "plt.plot(torch\n",
    " .tensor(lossi)\n",
    " .view(-1, 1000) # each row is a consecutive 1000, that we can take a mean of\n",
    " .mean(1))"
   ],
   "metadata": {
    "collapsed": false,
    "ExecuteTime": {
     "end_time": "2023-12-22T23:35:07.840716Z",
     "start_time": "2023-12-22T23:35:07.780683Z"
    }
   },
   "id": "9fc3a4c8f78492f6"
  },
  {
   "cell_type": "code",
   "execution_count": 84,
   "outputs": [
    {
     "data": {
      "text/plain": "Sequential(\n  (0): Embedding(27, 10)\n  (1): Flatten(start_dim=1, end_dim=-1)\n  (2): Linear(in_features=80, out_features=100, bias=False)\n  (3): BatchNorm1d(100, eps=1e-05, momentum=0.1, affine=True, track_running_stats=True)\n  (4): Tanh()\n  (5): Linear(in_features=100, out_features=100, bias=False)\n  (6): BatchNorm1d(100, eps=1e-05, momentum=0.1, affine=True, track_running_stats=True)\n  (7): Tanh()\n  (8): Linear(in_features=100, out_features=27, bias=True)\n)"
     },
     "execution_count": 84,
     "metadata": {},
     "output_type": "execute_result"
    }
   ],
   "source": [
    "model.eval()"
   ],
   "metadata": {
    "collapsed": false,
    "ExecuteTime": {
     "end_time": "2023-12-22T23:40:41.348756Z",
     "start_time": "2023-12-22T23:40:41.346115Z"
    }
   },
   "id": "eee96947c3c746a9"
  },
  {
   "cell_type": "code",
   "execution_count": 85,
   "outputs": [
    {
     "name": "stdout",
     "output_type": "stream",
     "text": [
      "train 1.9286613464355469\n",
      "val 2.024355411529541\n"
     ]
    }
   ],
   "source": [
    "# evaluate the loss (entire dataset, no batching)\n",
    "@torch.no_grad\n",
    "def split_loss(split):\n",
    "    X, Y = {\n",
    "        'train': (Xtr, Ytr),\n",
    "        'val': (Xdev, Ydev),\n",
    "        'test': (Xte, Yte),\n",
    "    }[split]\n",
    "    logits = model(X)\n",
    "    loss = F.cross_entropy(logits, Y)\n",
    "    print(split, loss.item())\n",
    "\n",
    "split_loss('train')\n",
    "split_loss('val')"
   ],
   "metadata": {
    "collapsed": false,
    "ExecuteTime": {
     "end_time": "2023-12-22T23:41:04.177248Z",
     "start_time": "2023-12-22T23:41:04.098901Z"
    }
   },
   "id": "33be6880f9c5801f"
  },
  {
   "cell_type": "code",
   "execution_count": 93,
   "outputs": [
    {
     "name": "stdout",
     "output_type": "stream",
     "text": [
      "pebonia.\n",
      "jamilo.\n",
      "renna.\n",
      "naiden.\n",
      "reinn.\n",
      "karic.\n",
      "eliany.\n",
      "aiyana.\n",
      "landy.\n",
      "sakeas.\n"
     ]
    }
   ],
   "source": [
    "# sample from the model\n",
    "for _ in range(10):\n",
    "    out = []\n",
    "    context = [0] * block_size\n",
    "    while True:\n",
    "        # forward pass the NN\n",
    "        logits = model(torch.tensor([context]))\n",
    "        prob = F.softmax(logits, dim=1)\n",
    "\n",
    "        # sample from distribution\n",
    "        ix = torch.multinomial(prob, num_samples=1, replacement=True).item()\n",
    "        \n",
    "        # shift context window and track samples\n",
    "        context = context[1:] + [ix]\n",
    "        out.append(itos[ix])\n",
    "        # break if we sample the ending character\n",
    "        if ix == 0:\n",
    "            break\n",
    "    print(''.join(out))"
   ],
   "metadata": {
    "collapsed": false,
    "ExecuteTime": {
     "end_time": "2023-12-22T23:41:27.757056Z",
     "start_time": "2023-12-22T23:41:27.745857Z"
    }
   },
   "id": "ef1c122bc53a777c"
  }
 ],
 "metadata": {
  "kernelspec": {
   "display_name": "Python 3",
   "language": "python",
   "name": "python3"
  },
  "language_info": {
   "codemirror_mode": {
    "name": "ipython",
    "version": 2
   },
   "file_extension": ".py",
   "mimetype": "text/x-python",
   "name": "python",
   "nbconvert_exporter": "python",
   "pygments_lexer": "ipython2",
   "version": "2.7.6"
  }
 },
 "nbformat": 4,
 "nbformat_minor": 5
}
