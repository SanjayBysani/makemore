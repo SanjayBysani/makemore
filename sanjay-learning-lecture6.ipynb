{
 "cells": [
  {
   "cell_type": "markdown",
   "source": [
    "A lot of the starter code is copied from sanjay-learning-lecture4.ipynb"
   ],
   "metadata": {
    "collapsed": false
   },
   "id": "fccc59ed00ed92fd"
  },
  {
   "cell_type": "code",
   "execution_count": 1,
   "id": "initial_id",
   "metadata": {
    "collapsed": true,
    "ExecuteTime": {
     "end_time": "2023-12-22T17:31:20.576244Z",
     "start_time": "2023-12-22T17:31:19.519674Z"
    }
   },
   "outputs": [],
   "source": [
    "import torch\n",
    "import torch.nn.functional as F\n",
    "import matplotlib.pyplot as plt # for making figures\n",
    "%matplotlib inline"
   ]
  },
  {
   "cell_type": "code",
   "execution_count": 2,
   "outputs": [
    {
     "name": "stdout",
     "output_type": "stream",
     "text": [
      "32033\n",
      "15\n",
      "['emma', 'olivia', 'ava', 'isabella', 'sophia', 'charlotte', 'mia', 'amelia']\n"
     ]
    }
   ],
   "source": [
    "# read in all the words\n",
    "words = open('names.txt', 'r').read().splitlines()\n",
    "print(len(words))\n",
    "print(max(len(w) for w in words))\n",
    "print(words[:8])"
   ],
   "metadata": {
    "collapsed": false,
    "ExecuteTime": {
     "end_time": "2023-12-22T17:31:21.424908Z",
     "start_time": "2023-12-22T17:31:21.416838Z"
    }
   },
   "id": "8455ce341a23bcaf"
  },
  {
   "cell_type": "code",
   "execution_count": 3,
   "outputs": [
    {
     "name": "stdout",
     "output_type": "stream",
     "text": [
      "{1: 'a', 2: 'b', 3: 'c', 4: 'd', 5: 'e', 6: 'f', 7: 'g', 8: 'h', 9: 'i', 10: 'j', 11: 'k', 12: 'l', 13: 'm', 14: 'n', 15: 'o', 16: 'p', 17: 'q', 18: 'r', 19: 's', 20: 't', 21: 'u', 22: 'v', 23: 'w', 24: 'x', 25: 'y', 26: 'z', 0: '.'}\n",
      "27\n"
     ]
    }
   ],
   "source": [
    "# build the vocabulary of characters and mappings to/from integers\n",
    "chars = sorted(list(set(''.join(words))))\n",
    "stoi = {s:i+1 for i,s in enumerate(chars)}\n",
    "stoi['.'] = 0\n",
    "itos = {i:s for s,i in stoi.items()}\n",
    "vocab_size = len(itos)\n",
    "print(itos)\n",
    "print(vocab_size)"
   ],
   "metadata": {
    "collapsed": false,
    "ExecuteTime": {
     "end_time": "2023-12-22T17:31:22.734802Z",
     "start_time": "2023-12-22T17:31:22.732648Z"
    }
   },
   "id": "306b21ce0718a53f"
  },
  {
   "cell_type": "code",
   "execution_count": 4,
   "outputs": [],
   "source": [
    "# shuffle up the words\n",
    "import random\n",
    "random.seed(42)\n",
    "random.shuffle(words)"
   ],
   "metadata": {
    "collapsed": false,
    "ExecuteTime": {
     "end_time": "2023-12-22T17:31:27.279891Z",
     "start_time": "2023-12-22T17:31:27.275323Z"
    }
   },
   "id": "7e93119ceba21489"
  },
  {
   "cell_type": "code",
   "execution_count": 180,
   "outputs": [
    {
     "name": "stdout",
     "output_type": "stream",
     "text": [
      "torch.Size([182625, 8]) torch.Size([182625])\n",
      "torch.Size([22655, 8]) torch.Size([22655])\n",
      "torch.Size([22866, 8]) torch.Size([22866])\n"
     ]
    }
   ],
   "source": [
    "# build the dataset\n",
    "block_size = 8 # context length: how many characters do we take to predict the next one?\n",
    "\n",
    "def build_dataset(words):  \n",
    "  X, Y = [], []\n",
    "  \n",
    "  for w in words:\n",
    "    context = [0] * block_size\n",
    "    for ch in w + '.':\n",
    "      ix = stoi[ch]\n",
    "      X.append(context)\n",
    "      Y.append(ix)\n",
    "      context = context[1:] + [ix] # crop and append\n",
    "\n",
    "  X = torch.tensor(X)\n",
    "  Y = torch.tensor(Y)\n",
    "  print(X.shape, Y.shape)\n",
    "  return X, Y\n",
    "\n",
    "n1 = int(0.8*len(words))\n",
    "n2 = int(0.9*len(words))\n",
    "Xtr,  Ytr  = build_dataset(words[:n1])     # 80%\n",
    "Xdev, Ydev = build_dataset(words[n1:n2])   # 10%\n",
    "Xte,  Yte  = build_dataset(words[n2:])     # 10%"
   ],
   "metadata": {
    "collapsed": false,
    "ExecuteTime": {
     "end_time": "2023-12-22T19:25:19.856100Z",
     "start_time": "2023-12-22T19:25:19.594068Z"
    }
   },
   "id": "aa42c379fb7356ed"
  },
  {
   "cell_type": "code",
   "execution_count": 181,
   "outputs": [
    {
     "name": "stdout",
     "output_type": "stream",
     "text": [
      "........ --> y\n",
      ".......y --> u\n",
      "......yu --> h\n",
      ".....yuh --> e\n",
      "....yuhe --> n\n",
      "...yuhen --> g\n",
      "..yuheng --> .\n",
      "........ --> d\n",
      ".......d --> i\n",
      "......di --> o\n",
      ".....dio --> n\n",
      "....dion --> d\n",
      "...diond --> r\n",
      "..diondr --> e\n",
      ".diondre --> .\n",
      "........ --> x\n",
      ".......x --> a\n",
      "......xa --> v\n",
      ".....xav --> i\n",
      "....xavi --> e\n"
     ]
    }
   ],
   "source": [
    "for x,y in zip(Xtr[:20], Ytr[:20]):\n",
    "  print(''.join(itos[ix.item()] for ix in x), '-->', itos[y.item()])"
   ],
   "metadata": {
    "collapsed": false,
    "ExecuteTime": {
     "end_time": "2023-12-22T19:25:28.717066Z",
     "start_time": "2023-12-22T19:25:28.714078Z"
    }
   },
   "id": "e60114477c114bf2"
  },
  {
   "cell_type": "code",
   "execution_count": 499,
   "outputs": [],
   "source": [
    "# -------------------------------------------------------------------\n",
    "class Embedding:\n",
    "    \n",
    "    def __init__(self, num_embeddings, embedding_dim):\n",
    "        self.weight = torch.randn((num_embeddings, embedding_dim))\n",
    "    \n",
    "    def __call__(self, IX):\n",
    "        self.out = self.weight[IX]\n",
    "        return self.out \n",
    "    \n",
    "    def parameters(self):\n",
    "        return [self.weight]\n",
    "\n",
    "# -------------------------------------------------------------------\n",
    "class FlattenConsecutive:\n",
    "    \n",
    "    def __init__(self, n): # flatten n consecutive elements\n",
    "        self.n = n\n",
    "\n",
    "    def __call__(self, x):\n",
    "        B, T, C = x.shape # B = training batch size; T = block size; C = embedding size\n",
    "        x = x.view(B, T // self.n, C * self.n) # // is integer division\n",
    "        if x.shape[1] == 1:\n",
    "            x = x.squeeze(1) # remove the unnecessary dimension\n",
    "        self.out = x\n",
    "        return self.out\n",
    "    \n",
    "    def parameters(self):\n",
    "        return []\n",
    "\n",
    "# -------------------------------------------------------------------\n",
    "class Linear:\n",
    "    \n",
    "    def __init__(self, fan_in, fan_out, bias=True):\n",
    "        self.weight = torch.randn((fan_in, fan_out)) / (fan_in ** 0.5) # kaiming initialization\n",
    "        self.bias = torch.zeros(fan_out) if bias else None\n",
    "        \n",
    "    def __call__(self, x):\n",
    "        self.out = x @ self.weight # storing in .out so that we can do some tracing\n",
    "        if self.bias is not None:\n",
    "            self.out += self.bias\n",
    "        return self.out\n",
    "    \n",
    "    def parameters(self):\n",
    "        return [self.weight] + ([] if self.bias is None else [self.bias])  # a list (len 1 or 2) of tensors\n",
    "\n",
    "# -------------------------------------------------------------------\n",
    "class BatchNorm1d:\n",
    "    \n",
    "    def __init__(self, n, eps=1e-5, momentum=0.1):\n",
    "        self.eps = eps\n",
    "        self.training = True\n",
    "        # gamma, beta similar to weight, bias of Linear network\n",
    "        self.gamma = torch.ones(1, n) \n",
    "        self.beta = torch.zeros(1, n)\n",
    "        # how much does specific forward pass affect running mean and std\n",
    "        self.momentum = momentum\n",
    "        # buffers, for maintaining a running mean, std\n",
    "        self.mean_running = torch.zeros(1, n)\n",
    "        self.var_running = torch.ones(1, n)\n",
    "    \n",
    "    # important note: PyTorch expects x to be of the form NxC or NxCxL (dim = 0 or dim = (0,2))\n",
    "    # our implementation expects x to be of the form NxC or NxLxC\n",
    "    def __call__(self, x):\n",
    "        if self.training:\n",
    "            if x.ndim == 2:\n",
    "                dim = 0\n",
    "            elif x.ndim == 3:\n",
    "                dim = (0,1)\n",
    "            xmean = x.mean(dim, keepdim=True)\n",
    "            xvar = x.var(dim, keepdim=True)\n",
    "        else:\n",
    "            xmean = self.mean_running\n",
    "            xvar = self.var_running\n",
    "        \n",
    "        xhat = (x - xmean) / torch.sqrt(xvar + self.eps) # normalize to variance = 1, mean = 0 (note: variance is std^2)\n",
    "        self.out = self.gamma * xhat + self.beta\n",
    "        \n",
    "        # if training, update the buffers\n",
    "        if self.training:\n",
    "            with torch.no_grad():\n",
    "                self.mean_running = self.mean_running * (1 - self.momentum) + xmean * self.momentum\n",
    "                self.var_running = self.var_running * (1 - self.momentum) + xvar * self.momentum\n",
    "        return self.out\n",
    "    \n",
    "    def parameters(self):\n",
    "        return [self.gamma, self.beta]\n",
    "\n",
    "# -------------------------------------------------------------------\n",
    "class TanH:    \n",
    "    \n",
    "    def __call__(self, x):\n",
    "        self.out = torch.tanh(x) \n",
    "        return self.out\n",
    "    \n",
    "    def parameters(self):\n",
    "        return []\n",
    "\n",
    "# -------------------------------------------------------------------\n",
    "class Sequential:\n",
    "    \n",
    "    def __init__(self, layers):\n",
    "        self.layers = layers\n",
    "    \n",
    "    def __call__(self, x):\n",
    "        for layer in self.layers:\n",
    "            x = layer(x)\n",
    "        self.out = x\n",
    "        return self.out\n",
    "    \n",
    "    def parameters(self):\n",
    "        # get parameters and stretch them out into one list\n",
    "        return [p for layer in self.layers for p in layer.parameters()]"
   ],
   "metadata": {
    "collapsed": false,
    "ExecuteTime": {
     "end_time": "2023-12-22T21:23:55.778669Z",
     "start_time": "2023-12-22T21:23:55.773253Z"
    }
   },
   "id": "653ecddba2db7a42"
  },
  {
   "cell_type": "code",
   "execution_count": 183,
   "outputs": [
    {
     "data": {
      "text/plain": "<torch._C.Generator at 0x112b671b0>"
     },
     "execution_count": 183,
     "metadata": {},
     "output_type": "execute_result"
    }
   ],
   "source": [
    "# simpler way to globally set the randomness seed\n",
    "# replaces the `g = torch.Generator().manual_seed(2147483647)`, and having to pass that in everywhere\n",
    "torch.manual_seed(42)"
   ],
   "metadata": {
    "collapsed": false,
    "ExecuteTime": {
     "end_time": "2023-12-22T19:25:33.749961Z",
     "start_time": "2023-12-22T19:25:33.745855Z"
    }
   },
   "id": "16decbad0faf1f61"
  },
  {
   "cell_type": "code",
   "execution_count": 508,
   "outputs": [
    {
     "data": {
      "text/plain": "76579"
     },
     "execution_count": 508,
     "metadata": {},
     "output_type": "execute_result"
    }
   ],
   "source": [
    "##\n",
    "# Defining the NN \n",
    "##\n",
    "\n",
    "n_embd = 24 # number of dimensions in the character embeddings\n",
    "n_hidden = 128 # number of neurons in a hidden layer\n",
    "\n",
    "model = Sequential([\n",
    "    Embedding(vocab_size, n_embd),\n",
    "    FlattenConsecutive(2), Linear(n_embd * 2, n_hidden, bias=False), BatchNorm1d(n_hidden), TanH(),\n",
    "    FlattenConsecutive(2), Linear(n_hidden * 2, n_hidden, bias=False), BatchNorm1d(n_hidden), TanH(),\n",
    "    FlattenConsecutive(2), Linear(n_hidden * 2, n_hidden, bias=False), BatchNorm1d(n_hidden), TanH(),\n",
    "    Linear(n_hidden, vocab_size)\n",
    "])\n",
    "\n",
    "# parameter initialization\n",
    "with torch.no_grad():\n",
    "    # make last layer less confident\n",
    "    model.layers[-1].weight *= 0.1\n",
    "\n",
    "parameters = model.parameters()\n",
    "for p in parameters:\n",
    "    p.requires_grad = True\n",
    "\n",
    "sum(p.nelement() for p in parameters)"
   ],
   "metadata": {
    "collapsed": false,
    "ExecuteTime": {
     "end_time": "2023-12-22T21:36:58.856256Z",
     "start_time": "2023-12-22T21:36:58.847695Z"
    }
   },
   "id": "513ba7c62ee51128"
  },
  {
   "cell_type": "code",
   "execution_count": 498,
   "outputs": [
    {
     "name": "stdout",
     "output_type": "stream",
     "text": [
      "Embedding : (22655, 8, 10)\n",
      "FlattenConsecutive : (22655, 4, 20)\n",
      "Linear : (22655, 4, 68)\n",
      "BatchNorm1d : (22655, 4, 68)\n",
      "TanH : (22655, 4, 68)\n",
      "FlattenConsecutive : (22655, 2, 136)\n",
      "Linear : (22655, 2, 68)\n",
      "BatchNorm1d : (22655, 2, 68)\n",
      "TanH : (22655, 2, 68)\n",
      "FlattenConsecutive : (22655, 136)\n",
      "Linear : (22655, 68)\n",
      "BatchNorm1d : (22655, 68)\n",
      "TanH : (22655, 68)\n",
      "Linear : (22655, 27)\n"
     ]
    }
   ],
   "source": [
    "# Inspect layer output shapes\n",
    "for layer in model.layers:\n",
    "    print(layer.__class__.__name__, ':', tuple(layer.out.shape))"
   ],
   "metadata": {
    "collapsed": false,
    "ExecuteTime": {
     "end_time": "2023-12-22T21:15:23.152199Z",
     "start_time": "2023-12-22T21:15:23.148404Z"
    }
   },
   "id": "2e80b07e85506bab"
  },
  {
   "cell_type": "code",
   "execution_count": 478,
   "outputs": [
    {
     "name": "stdout",
     "output_type": "stream",
     "text": [
      "torch.Size([4, 8])\n",
      "tensor([[ 6, 18,  1, 14,  3,  9, 14,  5],\n",
      "        [ 0,  0,  0,  0,  0,  0, 14,  9],\n",
      "        [ 0,  0,  8, 15, 12, 12,  9, 19],\n",
      "        [ 0,  0,  0,  0, 15, 19, 20,  9]])\n"
     ]
    }
   ],
   "source": [
    "## Scratchpad Start\n",
    "\n",
    "# ix = torch.randint(0, Xtr.shape[0], (4,)) # batch of 4 examples\n",
    "# Xb, Yb = Xtr[ix], Ytr[ix]\n",
    "# logits = model(Xb)\n",
    "# print(Xb.shape)\n",
    "# print(Xb)\n",
    "\n",
    "# print('embedding layer output shape', model.layers[0].out.shape)\n",
    "# print('flatten layer output shape', model.layers[1].out.shape)\n",
    "# print('linear layer output shape', model.layers[2].out.shape)\n",
    "# print('')\n",
    "# \n",
    "# print('Essentially, linear layer output is', (torch.rand(4, 80) @ torch.randn(80, 200) + torch.randn(200)).shape)\n",
    "# \n",
    "# # Important note: matrix multiplication in torch only requires the last dimensions to match.\n",
    "# print('multi-dimensional scenario', (torch.rand(4, 7, 8, 9, 80) @ torch.randn(80, 200) + torch.randn(200)).shape)\n",
    "# print('')\n",
    "\n",
    "# WAVENET: https://arxiv.org/pdf/1609.03499.pdf\n",
    "\n",
    "# example input, 8 characters\n",
    "# 1 2 3 4 5 6 7 8\n",
    "# we want to group this into (1 2) (3 4) (5 6) (7 8)\n",
    "# we can treat this as a batch dimension of 2\n",
    "\n",
    "# flatten layer output should be: \n",
    "#   mini-batch of 4 examples \n",
    "#   x each example batched into two rather than all at once, leading to 8 (block_size) / 2 = 4\n",
    "#   x two characters with embeddings = 20\n",
    "#   so, 4x4x20\n",
    "# print('WaveNet scenario', (torch.rand(4, 4, 20) @ torch.randn(20, 200) + torch.randn(200)).shape)\n",
    "# to support this, we need Flatten to output based on above, how do we do this ?\n",
    "\n",
    "# digression into list indexing\n",
    "# a = list(range(10))\n",
    "# print(a[1::2]) # prints every 2nd element starting from 1, for every odd\n",
    "\n",
    "# e = torch.randn((8, 1), generator=torch.Generator().manual_seed(1)) # we want 8x1 to be 4x2\n",
    "# explicitConcatenation = torch.cat([e[::2,:], e[1::2,:]], dim=1) # one way to do above is via explicit concatenation\n",
    "# print('8x1\\n', e)\n",
    "# print('4x2\\n', explicitConcatenation)\n",
    "# print('4x2 via view\\t', e.view(4,2))\n",
    "# print((e.view(4,2) == explicitConcatenation).all())\n",
    "# This works\n",
    "\n",
    "# Important to note that the View method only works when increasing the later dimensions\n",
    "\n",
    "## Scratchpad End"
   ],
   "metadata": {
    "collapsed": false,
    "ExecuteTime": {
     "end_time": "2023-12-22T20:51:43.218778Z",
     "start_time": "2023-12-22T20:51:43.213824Z"
    }
   },
   "id": "d5cea677ff519953"
  },
  {
   "cell_type": "code",
   "execution_count": 509,
   "outputs": [
    {
     "name": "stdout",
     "output_type": "stream",
     "text": [
      "      0 / 200000: 3.2956\n",
      "  10000 / 200000: 2.1509\n",
      "  20000 / 200000: 1.6836\n",
      "  30000 / 200000: 1.8574\n",
      "  40000 / 200000: 1.9783\n",
      "  50000 / 200000: 1.6760\n",
      "  60000 / 200000: 1.8772\n",
      "  70000 / 200000: 1.6335\n",
      "  80000 / 200000: 2.1417\n",
      "  90000 / 200000: 2.1305\n",
      " 100000 / 200000: 1.8784\n",
      " 110000 / 200000: 1.7506\n",
      " 120000 / 200000: 1.7658\n",
      " 130000 / 200000: 1.7405\n",
      " 140000 / 200000: 1.9796\n",
      " 150000 / 200000: 1.8425\n",
      " 160000 / 200000: 1.7893\n",
      " 170000 / 200000: 2.2474\n",
      " 180000 / 200000: 1.6861\n",
      " 190000 / 200000: 1.8284\n"
     ]
    }
   ],
   "source": [
    "n_steps = 200000\n",
    "batch_size = 32\n",
    "lossi = []\n",
    "\n",
    "for i in range(n_steps):\n",
    "    # construct minibatch\n",
    "    ix = torch.randint(0, Xtr.shape[0], (batch_size,))\n",
    "    Xb, Yb = Xtr[ix], Ytr[ix]\n",
    "    \n",
    "    # Forward pass\n",
    "    logits = model(Xb)\n",
    "\n",
    "    # Loss\n",
    "    loss = F.cross_entropy(logits, Yb)\n",
    "    \n",
    "    # Backward pass\n",
    "    for p in parameters:\n",
    "        p.grad = None\n",
    "    loss.backward()\n",
    "    \n",
    "    # update\n",
    "    lr = 0.1 if i < 100000 else 0.01 # step learning rate decay\n",
    "    for p in parameters:\n",
    "        p.data += -lr * p.grad\n",
    "    \n",
    "    # track stats\n",
    "    if i % 10000 == 0:\n",
    "        print(f'{i:7d} /{n_steps:7d}: {loss.item():.4f}')\n",
    "    lossi.append(loss.log10().item())"
   ],
   "metadata": {
    "collapsed": false,
    "ExecuteTime": {
     "end_time": "2023-12-22T21:41:01.723053Z",
     "start_time": "2023-12-22T21:37:02.317155Z"
    }
   },
   "id": "7a59bd0197072e34"
  },
  {
   "cell_type": "markdown",
   "source": [
    "# Flakiness in Loss Output\n",
    "Increasing from 1.7 to 2.3 and such. \n",
    "Main reason is due to small batch sizes. You can get lucky or unlucky more easily with a very small batch size."
   ],
   "metadata": {
    "collapsed": false
   },
   "id": "96c3afd069fd75c2"
  },
  {
   "cell_type": "code",
   "execution_count": 510,
   "outputs": [
    {
     "data": {
      "text/plain": "[<matplotlib.lines.Line2D at 0x16563e690>]"
     },
     "execution_count": 510,
     "metadata": {},
     "output_type": "execute_result"
    },
    {
     "data": {
      "text/plain": "<Figure size 640x480 with 1 Axes>",
      "image/png": "[encoded data removed]"
     },
     "metadata": {},
     "output_type": "display_data"
    }
   ],
   "source": [
    "plt.plot(torch\n",
    " .tensor(lossi)\n",
    " .view(-1, 1000) # each row is a consecutive 1000, that we can take a mean of\n",
    " .mean(1))"
   ],
   "metadata": {
    "collapsed": false,
    "ExecuteTime": {
     "end_time": "2023-12-22T21:41:21.521295Z",
     "start_time": "2023-12-22T21:41:21.455225Z"
    }
   },
   "id": "222902e348d4bcfd"
  },
  {
   "cell_type": "code",
   "execution_count": 511,
   "outputs": [],
   "source": [
    "# put layers into eval mode (for BatchNorm)\n",
    "for layer in model.layers:\n",
    "    if isinstance(layer, BatchNorm1d):\n",
    "        layer.training = False"
   ],
   "metadata": {
    "collapsed": false,
    "ExecuteTime": {
     "end_time": "2023-12-22T21:41:24.052142Z",
     "start_time": "2023-12-22T21:41:24.002520Z"
    }
   },
   "id": "fbb1117ec164b235"
  },
  {
   "cell_type": "code",
   "execution_count": 512,
   "outputs": [
    {
     "name": "stdout",
     "output_type": "stream",
     "text": [
      "train 1.786378026008606\n",
      "val 1.9908310174942017\n"
     ]
    }
   ],
   "source": [
    "# evaluate the loss (entire dataset, no batching)\n",
    "@torch.no_grad\n",
    "def split_loss(split):\n",
    "    X, Y = {\n",
    "        'train': (Xtr, Ytr),\n",
    "        'val': (Xdev, Ydev),\n",
    "        'test': (Xte, Yte),\n",
    "    }[split]\n",
    "    logits = model(X)\n",
    "    loss = F.cross_entropy(logits, Y)\n",
    "    print(split, loss.item())\n",
    "\n",
    "split_loss('train')\n",
    "split_loss('val')"
   ],
   "metadata": {
    "collapsed": false,
    "ExecuteTime": {
     "end_time": "2023-12-22T21:41:25.973528Z",
     "start_time": "2023-12-22T21:41:25.586088Z"
    }
   },
   "id": "d743edc54b747ec2"
  },
  {
   "cell_type": "markdown",
   "source": [
    "# Performance Log\n",
    "\n",
    "| Set Up                                                                                           | Train |   Val |                                         Notes |\n",
    "|--------------------------------------------------------------------------------------------------|:-----:|------:|----------------------------------------------:|\n",
    "| Sequential model with 3 character context, embedding length 8, 200 hidden neurons, 12K params    | 2.058 | 2.105 |                                               |\n",
    "| Sequential model with 8 character context, embedding length 8, 200 hidden neurons, 22K params    | 1.925 | 2.037 |                                               |\n",
    "| Hierarchical model with 8 character context, embedding length 8, 68 hidden neurons, 22K params   | 1.948 | 2.032 |                                               |\n",
    "| Fix bug in BatchNorm to take mean / variance with multi-dimensional inputs                       | 1.925 | 2.023 |                                               |\n",
    "| Hierarchical model with 8 character context, embedding length 24, 128 hidden neurons, 76K params | 1.786 | 1.990 | hyperparameters being set without due process |\n"
   ],
   "metadata": {
    "collapsed": false
   },
   "id": "6bea0e39b34aa0e2"
  },
  {
   "cell_type": "code",
   "execution_count": 526,
   "outputs": [
    {
     "name": "stdout",
     "output_type": "stream",
     "text": [
      "braylee.\n",
      "zahi.\n",
      "ilina.\n",
      "jessaf.\n",
      "avivaace.\n",
      "nyhalha.\n",
      "crayd.\n",
      "ebul.\n",
      "abduan.\n",
      "taeya.\n"
     ]
    }
   ],
   "source": [
    "# sample from the model\n",
    "for _ in range(10):\n",
    "    out = []\n",
    "    context = [0] * block_size\n",
    "    while True:\n",
    "        # forward pass the NN\n",
    "        logits = model(torch.tensor([context]))\n",
    "        prob = F.softmax(logits, dim=1)\n",
    "\n",
    "        # sample from distribution\n",
    "        ix = torch.multinomial(prob, num_samples=1, replacement=True).item()\n",
    "        \n",
    "        # shift context window and track samples\n",
    "        context = context[1:] + [ix]\n",
    "        out.append(itos[ix])\n",
    "        # break if we sample the ending character\n",
    "        if ix == 0:\n",
    "            break\n",
    "    print(''.join(out))\n",
    "        \n",
    "    "
   ],
   "metadata": {
    "collapsed": false,
    "ExecuteTime": {
     "end_time": "2023-12-22T21:43:25.041431Z",
     "start_time": "2023-12-22T21:43:25.029998Z"
    }
   },
   "id": "9664d9eddf9f095c"
  },
  {
   "cell_type": "markdown",
   "source": [
    "# Convolutional Neural Layers (as used in WaveNet paper)\n",
    "This is strictly for efficiency.\n",
    "Convolutions can be thought of a \"for loop\", that allows us to forward linear layers efficiently over space\n",
    "\n",
    "??? What! TODO"
   ],
   "metadata": {
    "collapsed": false
   },
   "id": "6c4ef0a5f7d35aab"
  },
  {
   "cell_type": "code",
   "execution_count": 639,
   "outputs": [
    {
     "name": "stdout",
     "output_type": "stream",
     "text": [
      "........ --> d\n",
      ".......d --> i\n",
      "......di --> o\n",
      ".....dio --> n\n",
      "....dion --> d\n",
      "...diond --> r\n",
      "..diondr --> e\n",
      ".diondre --> .\n"
     ]
    },
    {
     "data": {
      "text/plain": "torch.Size([8, 27])"
     },
     "execution_count": 639,
     "metadata": {},
     "output_type": "execute_result"
    }
   ],
   "source": [
    "for x,y in zip(Xtr[7:15], Ytr[7:15]):\n",
    "    print(''.join(itos[ix.item()] for ix in x), '-->', itos[y.item()])\n",
    "\n",
    "# forward 8 examples manually\n",
    "logits = torch.zeros(8,27)\n",
    "for i in range(8):\n",
    "    logits[i] = model(Xtr[[7+i]])\n",
    "logits.shape\n",
    "\n",
    "# with this implementation, this is 8 independent calls to the model\n",
    "# with convolutions, we can slide "
   ],
   "metadata": {
    "collapsed": false,
    "ExecuteTime": {
     "end_time": "2023-12-22T22:04:57.701392Z",
     "start_time": "2023-12-22T22:04:57.695348Z"
    }
   },
   "id": "9e98af5bab66aed1"
  },
  {
   "cell_type": "markdown",
   "source": [
    "# At this point, we can consider ourself as understanding what's under the hood of PyTorch, especially torch.nn and can use that from here\n",
    "YaY!!!"
   ],
   "metadata": {
    "collapsed": false
   },
   "id": "f23472a90a24bb14"
  },
  {
   "cell_type": "markdown",
   "source": [
    "# Notes on NN Development\n",
    "Spend a bunch of time in torch documentation pages, though, they might not be up-to-date\n",
    "Spend a bunch of type prototyping the NN in Jupyter notebooks to ensure the shapes and functionality works as intended\n",
    "Copy into a code repository once final and kick-off training"
   ],
   "metadata": {
    "collapsed": false
   },
   "id": "8d8d951d7ecb26ac"
  }
 ],
 "metadata": {
  "kernelspec": {
   "display_name": "Python 3",
   "language": "python",
   "name": "python3"
  },
  "language_info": {
   "codemirror_mode": {
    "name": "ipython",
    "version": 2
   },
   "file_extension": ".py",
   "mimetype": "text/x-python",
   "name": "python",
   "nbconvert_exporter": "python",
   "pygments_lexer": "ipython2",
   "version": "2.7.6"
  }
 },
 "nbformat": 4,
 "nbformat_minor": 5
}
