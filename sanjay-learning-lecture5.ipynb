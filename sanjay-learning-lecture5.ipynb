{
 "cells": [
  {
   "cell_type": "markdown",
   "source": [
    "# Becoming a Backpropagation Ninja"
   ],
   "metadata": {
    "collapsed": false
   },
   "id": "c9d76caf80f7adce"
  },
  {
   "cell_type": "code",
   "execution_count": 2,
   "outputs": [],
   "source": [
    "import torch\n",
    "import torch.nn.functional as F\n",
    "import matplotlib.pyplot as plt\n",
    "%matplotlib inline"
   ],
   "metadata": {
    "collapsed": false,
    "ExecuteTime": {
     "end_time": "2023-12-20T23:53:59.147250Z",
     "start_time": "2023-12-20T23:53:59.139092Z"
    }
   },
   "id": "27005dd27d913535"
  },
  {
   "cell_type": "code",
   "execution_count": 3,
   "outputs": [
    {
     "name": "stdout",
     "output_type": "stream",
     "text": [
      "32033\n",
      "15\n",
      "['emma', 'olivia', 'ava', 'isabella', 'sophia', 'charlotte', 'mia', 'amelia']\n"
     ]
    }
   ],
   "source": [
    "# read all the words\n",
    "words = open('names.txt', 'r').read().splitlines()\n",
    "print(len(words))\n",
    "print((max(len(w) for w in words)))\n",
    "print(words[:8])"
   ],
   "metadata": {
    "collapsed": false,
    "ExecuteTime": {
     "end_time": "2023-12-20T23:53:59.584242Z",
     "start_time": "2023-12-20T23:53:59.578164Z"
    }
   },
   "id": "345a8d13c08c8dff"
  },
  {
   "cell_type": "code",
   "execution_count": 4,
   "outputs": [
    {
     "name": "stdout",
     "output_type": "stream",
     "text": [
      "{1: 'a', 2: 'b', 3: 'c', 4: 'd', 5: 'e', 6: 'f', 7: 'g', 8: 'h', 9: 'i', 10: 'j', 11: 'k', 12: 'l', 13: 'm', 14: 'n', 15: 'o', 16: 'p', 17: 'q', 18: 'r', 19: 's', 20: 't', 21: 'u', 22: 'v', 23: 'w', 24: 'x', 25: 'y', 26: 'z', 0: '.'}\n",
      "vocab size:  27\n"
     ]
    }
   ],
   "source": [
    "# build vocabulary of characters and stoi, itos mappings\n",
    "chars = sorted(list(set(''.join(words)))) # a to z\n",
    "stoi = {s:i+1 for i,s in enumerate(chars)}\n",
    "stoi['.'] = 0\n",
    "itos = {i:s for s,i in stoi.items()}\n",
    "vocab_size = len(stoi)\n",
    "print(itos)\n",
    "print('vocab size: ', vocab_size)"
   ],
   "metadata": {
    "collapsed": false,
    "ExecuteTime": {
     "end_time": "2023-12-20T23:54:00.566026Z",
     "start_time": "2023-12-20T23:54:00.560815Z"
    }
   },
   "id": "970f4c637696f0b0"
  },
  {
   "cell_type": "code",
   "execution_count": 217,
   "outputs": [
    {
     "name": "stdout",
     "output_type": "stream",
     "text": [
      "torch.Size([182437, 3]) torch.Size([182437])\n",
      "torch.Size([22781, 3]) torch.Size([22781])\n",
      "torch.Size([22928, 3]) torch.Size([22928])\n"
     ]
    }
   ],
   "source": [
    "# build the dataset\n",
    "block_size = 3\n",
    "def build_dataset(words):\n",
    "    X, Y = [], []\n",
    "    for w in words:\n",
    "        context = [0] * block_size\n",
    "        for ch in w + '.':\n",
    "            ix = stoi[ch]\n",
    "            X.append(context)\n",
    "            Y.append(ix)\n",
    "            context = context[1:] + [ix]\n",
    "    X = torch.tensor(X)\n",
    "    Y = torch.tensor(Y)\n",
    "    print(X.shape, Y.shape)\n",
    "    return X, Y\n",
    "\n",
    "import random\n",
    "random.seed(42)\n",
    "random.shuffle(words)\n",
    "n1 = int(0.8*len(words))\n",
    "n2 = int(0.9*len(words))\n",
    "\n",
    "Xtr,  Ytr   = build_dataset(words[:n1])     # 80%\n",
    "Xdev, Ydev  = build_dataset(words[n1:n2])   # 10%\n",
    "Xte,  Yte   = build_dataset(words[n2:])     # 10%"
   ],
   "metadata": {
    "collapsed": false,
    "ExecuteTime": {
     "end_time": "2023-12-21T20:02:42.145687Z",
     "start_time": "2023-12-21T20:02:41.907713Z"
    }
   },
   "id": "2eb52cf287ac192a"
  },
  {
   "cell_type": "markdown",
   "source": [
    "Boilerplate Done "
   ],
   "metadata": {
    "collapsed": false
   },
   "id": "f45dbd85dc9e1c1e"
  },
  {
   "cell_type": "code",
   "execution_count": 56,
   "outputs": [],
   "source": [
    "# utility fn to compare manual gradients with pytorch gradients\n",
    "def cmp(s, dt, t):\n",
    "    ex = torch.all(dt == t.grad).item()\n",
    "    app = torch.allclose(dt, t.grad)\n",
    "    maxdiff = (dt - t.grad).abs().max().item()\n",
    "    print(f'{s:15s} | exact: {str(ex):5s} | approximate: {str(app):5s} | maxdiff:{maxdiff}')"
   ],
   "metadata": {
    "collapsed": false,
    "ExecuteTime": {
     "end_time": "2023-12-21T00:45:35.756615Z",
     "start_time": "2023-12-21T00:45:35.745845Z"
    }
   },
   "id": "1352ab5dc768564a"
  },
  {
   "cell_type": "code",
   "execution_count": 218,
   "outputs": [
    {
     "name": "stdout",
     "output_type": "stream",
     "text": [
      "C\t\t torch.Size([27, 10]) \n",
      "\n",
      "W1\t\t torch.Size([30, 64])\n",
      "b1\t\t torch.Size([64]) \n",
      "\n",
      "bngain\t torch.Size([1, 64])\n",
      "bnbias\t torch.Size([1, 64]) \n",
      "\n",
      "W2\t\t torch.Size([64, 27])\n",
      "b2\t\t torch.Size([27]) \n",
      "\n",
      "params\t 4137\n"
     ]
    }
   ],
   "source": [
    "n_embd = 10 # the dimensionality of the character embedding vectors\n",
    "n_hidden = 64 # number of neurons in the hidden layer of MLP\n",
    "\n",
    "g = torch.Generator().manual_seed(2147483647)\n",
    "C = torch.randn((vocab_size, n_embd),               generator=g)                                                ;print('C\\t\\t', C.shape, '\\n')\n",
    "\n",
    "# Layer 1\n",
    "W1 = torch.randn((n_embd * block_size, n_hidden),   generator=g) * (5/3) / ((n_embd * block_size) ** 0.5)       ;print('W1\\t\\t', W1.shape)\n",
    "# useless cause of BatchNorm layer that subtracts mean undoing the bias, but keeping it for practice\n",
    "b1 = torch.randn(n_hidden,                          generator=g) * 0.1                                          ;print('b1\\t\\t', b1.shape, '\\n')\n",
    "\n",
    "# BatchNorm paramaters\n",
    "bngain = torch.randn((1, n_hidden)) * 0.1 + 1.0                                                                 ;print('bngain\\t', bngain.shape)\n",
    "bnbias = torch.randn((1, n_hidden)) * 0.1                                                                       ;print('bnbias\\t', bnbias.shape, '\\n')\n",
    "\n",
    "# Layer 2\n",
    "W2 = torch.randn((n_hidden, vocab_size),            generator=g) * 0.1                                          ;print('W2\\t\\t', W2.shape)\n",
    "b2 = torch.randn(vocab_size,                        generator=g) * 0.1                                          ;print('b2\\t\\t', b2.shape, '\\n')\n",
    "\n",
    "# Note, above params are initialized in non-standard ways to ensure that we don't accidentally mask incorrect manual gradient eval (eg: all zeros scenario)\n",
    "parameters = [C, W1, b1, W2, b2, bngain, bnbias]\n",
    "for p in parameters:\n",
    "    p.requires_grad = True\n",
    "    \n",
    "print('params\\t', sum(p.nelement() for p in parameters))"
   ],
   "metadata": {
    "collapsed": false,
    "ExecuteTime": {
     "end_time": "2023-12-21T20:02:44.385023Z",
     "start_time": "2023-12-21T20:02:44.372568Z"
    }
   },
   "id": "c734c1dc0a8f7b3a"
  },
  {
   "cell_type": "code",
   "execution_count": 219,
   "outputs": [
    {
     "name": "stdout",
     "output_type": "stream",
     "text": [
      "ix\t\t torch.Size([32]) \n",
      "\n",
      "Xb\t\t torch.Size([32, 3])\n",
      "Yb\t\t torch.Size([32])\n"
     ]
    }
   ],
   "source": [
    "batch_size = 32\n",
    "n = batch_size\n",
    "\n",
    "# construct minibatch\n",
    "ix = torch.randint(0, Xtr.shape[0], (batch_size,), generator=g)     ;print('ix\\t\\t', ix.shape, '\\n')\n",
    "\n",
    "Xb, Yb = Xtr[ix], Ytr[ix]                                           ;print('Xb\\t\\t', Xb.shape)  ;print('Yb\\t\\t', Yb.shape)"
   ],
   "metadata": {
    "collapsed": false,
    "ExecuteTime": {
     "end_time": "2023-12-21T20:02:46.678018Z",
     "start_time": "2023-12-21T20:02:46.665321Z"
    }
   },
   "id": "7517b3205df4f51d"
  },
  {
   "cell_type": "markdown",
   "source": [
    "forward pass, chunked into smaller steps, on which we can run backward pass one at a time"
   ],
   "metadata": {
    "collapsed": false
   },
   "id": "57e969b66edffc5a"
  },
  {
   "cell_type": "markdown",
   "source": [
    "# Bessel's Correction\n",
    "\n",
    "Dividing by n-1 gives better estimate where we have small populations, which is the case for mini batches. It's aka unbiased variance estimation.\n",
    "If we just estimated by 1/n, then it'd almost always underestimate the variance.\n",
    "\n",
    "[Relevant Paper](https://www.youtube.com/redirect?event=video_description&redir_token=QUFFLUhqblZsQ1lCeTg1S19aVkpEckNfaDhWaEt6RGpDd3xBQ3Jtc0ttbUNPc1dhOW9DQ1REYS1YMnNOQnVTaFVzazRyOEhrY2dJcVRTOVdUSHFQVDl2ZkhWX2lUQzRPV0JodTY5NjV0YXVVWm9kYzQwRnFtbkZQSS03M1BESXp1RFZ0TU1CRWdDaTZJU3o3c0FIdVk3SkZENA&q=http%3A%2F%2Fmath.oxford.emory.edu%2Fsite%2Fmath117%2FbesselCorrection%2F&v=q8SA3rM6ckI)"
   ],
   "metadata": {
    "collapsed": false
   },
   "id": "edc96d9baab9d361"
  },
  {
   "cell_type": "code",
   "execution_count": 220,
   "outputs": [
    {
     "name": "stdout",
     "output_type": "stream",
     "text": [
      "emb\t\t\t\t torch.Size([32, 3, 10])\n",
      "embcat\t\t\t torch.Size([32, 30]) \n",
      "\n",
      "hprebn\t\t\t torch.Size([32, 64]) \n",
      "\n",
      "bnmeani\t\t\t torch.Size([1, 64])\n",
      "bndiff\t\t\t torch.Size([32, 64])\n",
      "bndiff2\t\t\t torch.Size([32, 64])\n",
      "bnvar\t\t\t torch.Size([1, 64])\n",
      "bnvar_inv\t\t torch.Size([1, 64])\n",
      "bnraw\t\t\t torch.Size([32, 64])\n",
      "hpreact\t\t\t torch.Size([32, 64]) \n",
      "\n",
      "h\t\t\t\t torch.Size([32, 64]) \n",
      "\n",
      "logits\t\t\t torch.Size([32, 27]) \n",
      "\n",
      "logit_maxes\t\t torch.Size([32, 1])\n",
      "norm_logits\t\t torch.Size([32, 27])\n",
      "counts\t\t\t torch.Size([32, 27])\n",
      "counts_sum\t\t torch.Size([32, 1])\n",
      "counts_sum_inv\t torch.Size([32, 1])\n",
      "probs\t\t\t torch.Size([32, 27])\n",
      "logprobs\t\t torch.Size([32, 27])\n",
      "loss\t\t\t torch.Size([])\n"
     ]
    },
    {
     "data": {
      "text/plain": "tensor(3.5444, grad_fn=<NegBackward0>)"
     },
     "execution_count": 220,
     "metadata": {},
     "output_type": "execute_result"
    }
   ],
   "source": [
    "emb = C[Xb]                                                                             ;print('emb\\t\\t\\t\\t', emb.shape)\n",
    "embcat = emb.view(emb.shape[0], -1)                                                     ;print('embcat\\t\\t\\t', embcat.shape, '\\n')\n",
    "\n",
    "##\n",
    "# Forward Pass\n",
    "##\n",
    "\n",
    "# Linear layer 1\n",
    "hprebn = embcat @ W1 + b1                                                               ;print('hprebn\\t\\t\\t', hprebn.shape, '\\n')\n",
    "\n",
    "# BatchNorm layer\n",
    "#mean\n",
    "bnmeani = (1/n)*hprebn.sum(0, keepdim=True)                                             ;print('bnmeani\\t\\t\\t', bnmeani.shape)\n",
    "#var == average of the squared differences\n",
    "bndiff = hprebn - bnmeani                                                               ;print('bndiff\\t\\t\\t', bndiff.shape)\n",
    "bndiff2 = bndiff**2                                                                     ;print('bndiff2\\t\\t\\t', bndiff2.shape)\n",
    "#bassel's correction to divide by n-1, not n\n",
    "bnvar = ((1/(n-1))*bndiff2).sum(0, keepdim=True)                                        ;print('bnvar\\t\\t\\t', bnvar.shape)\n",
    "bnvar_inv = (bnvar + 1e-5)**-0.5                                                        ;print('bnvar_inv\\t\\t', bnvar_inv.shape)\n",
    "bnraw = bndiff * bnvar_inv                                                              ;print('bnraw\\t\\t\\t', bnraw.shape)\n",
    "hpreact = bngain * bnraw + bnbias                                                       ;print('hpreact\\t\\t\\t', hpreact.shape, '\\n')\n",
    "\n",
    "# Non-linearity\n",
    "h = torch.tanh(hpreact)                                                                 ;print('h\\t\\t\\t\\t', h.shape, '\\n')\n",
    "\n",
    "# Linear layer 2\n",
    "logits = h @ W2 + b2                                                                    ;print('logits\\t\\t\\t', logits.shape, '\\n')\n",
    "\n",
    "# Cross entropy loss ( same as F.cross_entropy(logits, Yb))\n",
    "logit_maxes = logits.max(1, keepdim=True).values                                        ;print('logit_maxes\\t\\t', logit_maxes.shape)\n",
    "#subtract max for numberical stability. If we do not do this, logits with too large values can end up causing issues.\n",
    "norm_logits = logits - logit_maxes                                                      ;print('norm_logits\\t\\t', norm_logits.shape)\n",
    "counts = norm_logits.exp()                                                              ;print('counts\\t\\t\\t', counts.shape)\n",
    "counts_sum = counts.sum(1, keepdim=True)                                                ;print('counts_sum\\t\\t', counts_sum.shape)\n",
    "#using 1.0/counts_sum makes it hard to get backprop to be exact... something with pytorch _shrug_\n",
    "counts_sum_inv = counts_sum**-1                                                         ;print('counts_sum_inv\\t', counts_sum_inv.shape)\n",
    "#broadcasting being done to do element wise multiplication\n",
    "probs = counts * counts_sum_inv                                                         ;print('probs\\t\\t\\t', probs.shape)\n",
    "logprobs = probs.log()                                                                  ;print('logprobs\\t\\t', logprobs.shape)\n",
    "loss = -logprobs[range(n), Yb].mean()                                                   ;print('loss\\t\\t\\t', loss.shape)\n",
    "\n",
    "##\n",
    "# Backward Pass\n",
    "##\n",
    "for p in parameters:\n",
    "    p.grad = None\n",
    "for t in [logprobs, probs, counts, counts_sum, counts_sum_inv,\n",
    "          norm_logits, logit_maxes, logits, h, hpreact, bnraw,\n",
    "          bnvar_inv, bnvar, bndiff2, bndiff, hprebn, bnmeani,\n",
    "          embcat, emb]:\n",
    "    t.retain_grad()\n",
    "\n",
    "loss.backward()\n",
    "loss"
   ],
   "metadata": {
    "collapsed": false,
    "ExecuteTime": {
     "end_time": "2023-12-21T20:02:48.274230Z",
     "start_time": "2023-12-21T20:02:48.261540Z"
    }
   },
   "id": "991a2759f792f286"
  },
  {
   "cell_type": "code",
   "execution_count": 221,
   "outputs": [
    {
     "name": "stdout",
     "output_type": "stream",
     "text": [
      "logprobs        | exact: True  | approximate: True  | maxdiff:0.0\n",
      "probs           | exact: True  | approximate: True  | maxdiff:0.0\n",
      "counts_sum_inv  | exact: True  | approximate: True  | maxdiff:0.0\n",
      "counts_sum      | exact: True  | approximate: True  | maxdiff:0.0\n",
      "counts          | exact: True  | approximate: True  | maxdiff:0.0\n",
      "norm_logits     | exact: True  | approximate: True  | maxdiff:0.0\n",
      "logit_maxes     | exact: True  | approximate: True  | maxdiff:0.0\n",
      "logits          | exact: True  | approximate: True  | maxdiff:0.0\n",
      "h               | exact: True  | approximate: True  | maxdiff:0.0\n",
      "W2              | exact: True  | approximate: True  | maxdiff:0.0\n",
      "b2              | exact: True  | approximate: True  | maxdiff:0.0\n",
      "hpreact         | exact: True  | approximate: True  | maxdiff:0.0\n",
      "bngain          | exact: True  | approximate: True  | maxdiff:0.0\n",
      "bnraw           | exact: True  | approximate: True  | maxdiff:0.0\n",
      "bnbias          | exact: True  | approximate: True  | maxdiff:0.0\n",
      "bnvar_inv       | exact: True  | approximate: True  | maxdiff:0.0\n",
      "bnvar           | exact: True  | approximate: True  | maxdiff:0.0\n",
      "bndiff2         | exact: True  | approximate: True  | maxdiff:0.0\n",
      "bndiff          | exact: True  | approximate: True  | maxdiff:0.0\n",
      "bnmeani         | exact: True  | approximate: True  | maxdiff:0.0\n",
      "hprebn          | exact: True  | approximate: True  | maxdiff:0.0\n",
      "embcat          | exact: True  | approximate: True  | maxdiff:0.0\n",
      "W1              | exact: True  | approximate: True  | maxdiff:0.0\n",
      "b1              | exact: True  | approximate: True  | maxdiff:0.0\n",
      "emb             | exact: True  | approximate: True  | maxdiff:0.0\n",
      "C               | exact: True  | approximate: True  | maxdiff:0.0\n"
     ]
    }
   ],
   "source": [
    "# Exercise 1: backprop through the whole thing manually, \n",
    "# backpropagating through exactly all of the variables \n",
    "# as they are defined in the forward pass above, one by one\n",
    "\n",
    "dlogprobs = torch.zeros(logprobs.size())\n",
    "dlogprobs[range(n), Yb] = -1.0/n\n",
    "\n",
    "dprobs = (1.0 / probs) * dlogprobs\n",
    "\n",
    "dcounts_sum_inv = counts * dprobs\n",
    "# if a node is used multiple times, the gradients end up summing during backpropagation, broadcasting is equivalent to using multiple times\n",
    "dcounts_sum_inv = dcounts_sum_inv.sum(1, keepdims=True)\n",
    "\n",
    "dcounts_sum = (-1 / (counts_sum**2)) * dcounts_sum_inv\n",
    "\n",
    "# dcounts is used in two nodes, the gradients end up summing\n",
    "dcounts = ((dprobs * counts_sum_inv)\n",
    "            + (torch.ones_like(counts) * dcounts_sum)) \n",
    "\n",
    "dnorm_logits = norm_logits.exp() * dcounts\n",
    "\n",
    "dlogit_maxes = (-dnorm_logits).sum(1, keepdims=True)\n",
    "\n",
    "dlogits = dnorm_logits * 1\n",
    "dlogits += dlogit_maxes * ((logits == logit_maxes).int())\n",
    "\n",
    "# important derivation: https://youtu.be/q8SA3rM6ckI?feature=shared&t=2853\n",
    "# d = a @ b + c\n",
    "# d(L) / d(a) = (d(L) / d(d)) @ transpose(b)\n",
    "dh = (dlogits @ W2.T)\n",
    "\n",
    "# similarly, d(L) / d(b) = transpose(a) @ (d(L) / d(d)) \n",
    "dW2 = h.T @ dlogits \n",
    "\n",
    "# d(L) / d(c) = (d(L) / d(d)).sum(0)\n",
    "db2 = dlogits.sum(0)\n",
    "\n",
    "dhpreact = dh * (1 - torch.tanh(hpreact)**2)\n",
    "\n",
    "dbngain = (bnraw * dhpreact).sum(0, keepdims=True)\n",
    "\n",
    "dbnraw = bngain * dhpreact\n",
    "\n",
    "dbnbias = dhpreact.sum(0, keepdims=True)\n",
    "\n",
    "dbnvar_inv = (bndiff * dbnraw).sum(0, keepdims=True)\n",
    "\n",
    "dbndiff = bnvar_inv * dbnraw\n",
    "\n",
    "dbnvar = dbnvar_inv * (-0.5*(bnvar+1e-5)**-1.5)\n",
    "\n",
    "dbndiff2 = torch.ones(32, 1) @ (dbnvar * (1/(n-1)))\n",
    "\n",
    "dbndiff += dbndiff2 * 2 * bndiff\n",
    "\n",
    "dbnmeani = (dbndiff * -1).sum(0, keepdims=True)\n",
    "\n",
    "dhprebn = dbndiff.clone() # for safety, copies the data\n",
    "dhprebn += (1.0/n) * (torch.ones_like(hprebn) * dbnmeani)\n",
    "\n",
    "dembcat = dhprebn @ W1.T\n",
    "\n",
    "dW1 = embcat.T @ dhprebn\n",
    "\n",
    "db1 = dhprebn.sum(0)\n",
    "\n",
    "demb = dembcat.view(emb.shape)\n",
    "\n",
    "# We know demb (32x3x10), so, the only thing to do is to see how each element in C contributes to this, accounting for summing up repeated embeddings\n",
    "dC = torch.zeros_like(C)\n",
    "for k in range(Xb.shape[0]):\n",
    "    for j in range(Xb.shape[1]):\n",
    "        dC[Xb[k,j]] += demb[k,j]\n",
    "        \n",
    "# print(C[Xb].shape, C.shape, Xb.shape)\n",
    "# print(Xb[:5])\n",
    "\n",
    "cmp('logprobs', dlogprobs, logprobs)\n",
    "cmp('probs', dprobs, probs)\n",
    "cmp('counts_sum_inv', dcounts_sum_inv, counts_sum_inv)\n",
    "cmp('counts_sum', dcounts_sum, counts_sum)\n",
    "cmp('counts', dcounts, counts)\n",
    "cmp('norm_logits', dnorm_logits, norm_logits)\n",
    "cmp('logit_maxes', dlogit_maxes, logit_maxes)\n",
    "cmp('logits', dlogits, logits)\n",
    "cmp('h', dh, h)\n",
    "cmp('W2', dW2, W2)\n",
    "cmp('b2', db2, b2)\n",
    "cmp('hpreact', dhpreact, hpreact)\n",
    "cmp('bngain', dbngain, bngain)\n",
    "cmp('bnraw', dbnraw, bnraw)\n",
    "cmp('bnbias', dbnbias, bnbias)\n",
    "cmp('bnvar_inv', dbnvar_inv, bnvar_inv)\n",
    "cmp('bnvar', dbnvar, bnvar)\n",
    "cmp('bndiff2', dbndiff2, bndiff2)\n",
    "cmp('bndiff', dbndiff, bndiff)\n",
    "cmp('bnmeani', dbnmeani, bnmeani)\n",
    "cmp('hprebn', dhprebn, hprebn)\n",
    "cmp('embcat', dembcat, embcat)\n",
    "cmp('W1', dW1, W1)\n",
    "cmp('b1', db1, b1)\n",
    "cmp('emb', demb, emb)\n",
    "cmp('C', dC, C)"
   ],
   "metadata": {
    "collapsed": false,
    "ExecuteTime": {
     "end_time": "2023-12-21T20:02:50.021928Z",
     "start_time": "2023-12-21T20:02:50.009414Z"
    }
   },
   "id": "185961a887e0b17"
  },
  {
   "cell_type": "code",
   "execution_count": 222,
   "outputs": [
    {
     "name": "stdout",
     "output_type": "stream",
     "text": [
      "3.5444116592407227 diff: 4.76837158203125e-07\n"
     ]
    }
   ],
   "source": [
    "# Exercise 2: backprop through cross_entropy but all in one go\n",
    "# to complete this challenge look at the mathematical expression of the loss,\n",
    "# take the derivative, simplify the expression, and just write it out\n",
    "\n",
    "# forward pass\n",
    "\n",
    "# before:\n",
    "# logit_maxes = logits.max(1, keepdim=True).values\n",
    "# norm_logits = logits - logit_maxes # subtract max for numerical stability\n",
    "# counts = norm_logits.exp()\n",
    "# counts_sum = counts.sum(1, keepdims=True)\n",
    "# counts_sum_inv = counts_sum**-1 # if I use (1.0 / counts_sum) instead then I can't get backprop to be bit exact...\n",
    "# probs = counts * counts_sum_inv\n",
    "# logprobs = probs.log()\n",
    "# loss = -logprobs[range(n), Yb].mean()\n",
    "\n",
    "# now:\n",
    "loss_fast = F.cross_entropy(logits, Yb)\n",
    "print(loss_fast.item(), 'diff:', (loss_fast - loss).item())"
   ],
   "metadata": {
    "collapsed": false,
    "ExecuteTime": {
     "end_time": "2023-12-21T20:02:53.975466Z",
     "start_time": "2023-12-21T20:02:53.962559Z"
    }
   },
   "id": "70ce0ea48a75ed27"
  },
  {
   "cell_type": "code",
   "execution_count": 223,
   "outputs": [
    {
     "name": "stdout",
     "output_type": "stream",
     "text": [
      "logits          | exact: False | approximate: True  | maxdiff:6.28642737865448e-09\n"
     ]
    }
   ],
   "source": [
    "# backward pass\n",
    "\n",
    "# -----------------\n",
    "# YOUR CODE HERE :)\n",
    "\n",
    "\"\"\"\n",
    "logits\n",
    "# softmax, to give probabilities from logits\n",
    "counts = logits.exp()\n",
    "prob = counts / counts.sum(1, keepdims=True)\n",
    "# loss == -nll == negative log likelihood\n",
    "loss = -prob[torch.arange(32), Yb].log().mean()\n",
    "\"\"\"\n",
    "\n",
    "dlogits = F.softmax(logits, 1) # columns are output for each row\n",
    "dlogits[range(n), Yb] -= 1\n",
    "dlogits /= n # loss scaled down by n, gradient should also be scaled down by n\n",
    "\n",
    "# -----------------\n",
    "\n",
    "cmp('logits', dlogits, logits) # I can only get approximate to be true, my maxdiff is 6e-9"
   ],
   "metadata": {
    "collapsed": false,
    "ExecuteTime": {
     "end_time": "2023-12-21T20:02:56.200002Z",
     "start_time": "2023-12-21T20:02:56.187739Z"
    }
   },
   "id": "2c1ca9a8f9183cc0"
  },
  {
   "cell_type": "code",
   "execution_count": 224,
   "outputs": [
    {
     "name": "stdout",
     "output_type": "stream",
     "text": [
      "max diff: tensor(4.7684e-07, grad_fn=<MaxBackward1>)\n"
     ]
    }
   ],
   "source": [
    "# Exercise 3: backprop through batchnorm but all in one go\n",
    "# to complete this challenge look at the mathematical expression of the output of batchnorm,\n",
    "# take the derivative w.r.t. its input, simplify the expression, and just write it out\n",
    "# BatchNorm paper: https://arxiv.org/abs/1502.03167\n",
    "\n",
    "# forward pass\n",
    "\n",
    "# before:\n",
    "# bnmeani = 1/n*hprebn.sum(0, keepdim=True)\n",
    "# bndiff = hprebn - bnmeani\n",
    "# bndiff2 = bndiff**2\n",
    "# bnvar = 1/(n-1)*(bndiff2).sum(0, keepdim=True) # note: Bessel's correction (dividing by n-1, not n)\n",
    "# bnvar_inv = (bnvar + 1e-5)**-0.5\n",
    "# bnraw = bndiff * bnvar_inv\n",
    "# hpreact = bngain * bnraw + bnbias\n",
    "\n",
    "# now:\n",
    "hpreact_fast = bngain * (hprebn - hprebn.mean(0, keepdim=True)) / torch.sqrt(hprebn.var(0, keepdim=True, unbiased=True) + 1e-5) + bnbias\n",
    "print('max diff:', (hpreact_fast - hpreact).abs().max())"
   ],
   "metadata": {
    "collapsed": false,
    "ExecuteTime": {
     "end_time": "2023-12-21T20:02:58.519053Z",
     "start_time": "2023-12-21T20:02:58.506893Z"
    }
   },
   "id": "fdcc14f5c07c2465"
  },
  {
   "cell_type": "code",
   "execution_count": 225,
   "outputs": [
    {
     "name": "stdout",
     "output_type": "stream",
     "text": [
      "hprebn          | exact: False | approximate: True  | maxdiff:1.3969838619232178e-09\n"
     ]
    }
   ],
   "source": [
    "# backward pass\n",
    "\n",
    "# before we had:\n",
    "# dbnraw = bngain * dhpreact\n",
    "# dbndiff = bnvar_inv * dbnraw\n",
    "# dbnvar_inv = (bndiff * dbnraw).sum(0, keepdim=True)\n",
    "# dbnvar = (-0.5*(bnvar + 1e-5)**-1.5) * dbnvar_inv\n",
    "# dbndiff2 = (1.0/(n-1))*torch.ones_like(bndiff2) * dbnvar\n",
    "# dbndiff += (2*bndiff) * dbndiff2\n",
    "# dhprebn = dbndiff.clone()\n",
    "# dbnmeani = (-dbndiff).sum(0)\n",
    "# dhprebn += 1.0/n * (torch.ones_like(hprebn) * dbnmeani)\n",
    "\n",
    "# calculate dhprebn given dhpreact (i.e. backprop through the batchnorm)\n",
    "# (you'll also need to use some of the variables from the forward pass up above)\n",
    "\n",
    "# -----------------\n",
    "# YOUR CODE HERE :)\n",
    "dhprebn = (bngain * bnvar_inv / n) * (\n",
    "         (-n/(n-1))*bnraw*((bnraw*dhpreact).sum(0))\n",
    "         + n*dhpreact\n",
    "         - dhpreact.sum(0)\n",
    ")\n",
    "\n",
    "# -----------------\n",
    "\n",
    "cmp('hprebn', dhprebn, hprebn) # I can only get approximate to be true, my maxdiff is 9e-10"
   ],
   "metadata": {
    "collapsed": false,
    "ExecuteTime": {
     "end_time": "2023-12-21T20:03:01.210212Z",
     "start_time": "2023-12-21T20:03:01.197467Z"
    }
   },
   "id": "34c93acf3e4358c"
  },
  {
   "cell_type": "code",
   "execution_count": 242,
   "outputs": [
    {
     "name": "stdout",
     "output_type": "stream",
     "text": [
      "12297\n",
      "      0/ 200000: 3.7316\n",
      "  10000/ 200000: 1.7984\n",
      "  20000/ 200000: 1.8494\n",
      "  30000/ 200000: 2.4125\n",
      "  40000/ 200000: 2.4160\n",
      "  50000/ 200000: 1.8749\n",
      "  60000/ 200000: 2.4931\n",
      "  70000/ 200000: 2.0872\n",
      "  80000/ 200000: 1.8220\n",
      "  90000/ 200000: 2.3179\n",
      " 100000/ 200000: 2.2750\n",
      " 110000/ 200000: 2.1868\n",
      " 120000/ 200000: 1.9906\n",
      " 130000/ 200000: 1.8613\n",
      " 140000/ 200000: 2.1606\n",
      " 150000/ 200000: 2.2070\n",
      " 160000/ 200000: 1.8613\n",
      " 170000/ 200000: 2.2749\n",
      " 180000/ 200000: 2.3869\n",
      " 190000/ 200000: 1.8296\n"
     ]
    }
   ],
   "source": [
    "# Exercise 4: putting it all together!\n",
    "# Train the MLP neural net with your own backward pass\n",
    "\n",
    "# init\n",
    "n_embd = 10 # the dimensionality of the character embedding vectors\n",
    "n_hidden = 200 # the number of neurons in the hidden layer of the MLP\n",
    "\n",
    "g = torch.Generator().manual_seed(2147483647) # for reproducibility\n",
    "C  = torch.randn((vocab_size, n_embd),            generator=g)\n",
    "# Layer 1\n",
    "W1 = torch.randn((n_embd * block_size, n_hidden), generator=g) * (5/3)/((n_embd * block_size)**0.5)\n",
    "b1 = torch.randn(n_hidden,                        generator=g) * 0.1\n",
    "# Layer 2\n",
    "W2 = torch.randn((n_hidden, vocab_size),          generator=g) * 0.1\n",
    "b2 = torch.randn(vocab_size,                      generator=g) * 0.1\n",
    "# BatchNorm parameters\n",
    "bngain = torch.randn((1, n_hidden))*0.1 + 1.0\n",
    "bnbias = torch.randn((1, n_hidden))*0.1\n",
    "\n",
    "parameters = [C, W1, b1, W2, b2, bngain, bnbias]\n",
    "print(sum(p.nelement() for p in parameters)) # number of parameters in total\n",
    "for p in parameters:\n",
    "  p.requires_grad = True\n",
    "\n",
    "# same optimization as last time\n",
    "max_steps = 200000\n",
    "batch_size = 32\n",
    "n = batch_size # convenience\n",
    "lossi = []\n",
    "\n",
    "# use this context manager for efficiency once your backward pass is written (TODO)\n",
    "with torch.no_grad(): # basically, saying pytorch that we are not gonna call loss.backward on anything here\n",
    "\n",
    "    # kick off optimization\n",
    "    for i in range(max_steps):\n",
    "    \n",
    "      # minibatch construct\n",
    "      ix = torch.randint(0, Xtr.shape[0], (batch_size,), generator=g)\n",
    "      Xb, Yb = Xtr[ix], Ytr[ix] # batch X,Y\n",
    "    \n",
    "      # forward pass\n",
    "      emb = C[Xb] # embed the characters into vectors\n",
    "      embcat = emb.view(emb.shape[0], -1) # concatenate the vectors\n",
    "      # Linear layer\n",
    "      hprebn = embcat @ W1 + b1 # hidden layer pre-activation\n",
    "      # BatchNorm layer\n",
    "      # -------------------------------------------------------------\n",
    "      bnmean = hprebn.mean(0, keepdim=True)\n",
    "      bnvar = hprebn.var(0, keepdim=True, unbiased=True)\n",
    "      bnvar_inv = (bnvar + 1e-5)**-0.5\n",
    "      bnraw = (hprebn - bnmean) * bnvar_inv\n",
    "      hpreact = bngain * bnraw + bnbias\n",
    "      # -------------------------------------------------------------\n",
    "      # Non-linearity\n",
    "      h = torch.tanh(hpreact) # hidden layer\n",
    "      logits = h @ W2 + b2 # output layer\n",
    "      loss = F.cross_entropy(logits, Yb) # loss function\n",
    "    \n",
    "      # backward pass\n",
    "      for p in parameters:\n",
    "        p.grad = None\n",
    "      # loss.backward() # use this for correctness comparisons, delete it later!\n",
    "    \n",
    "      # manual backprop! #swole_doge_meme\n",
    "      # -----------------\n",
    "      dlogits = F.softmax(logits, 1) # columns are output for each row\n",
    "      dlogits[range(n), Yb] -= 1\n",
    "      dlogits /= n # loss scaled down by n, gradient should also be scaled down by n\n",
    "      # 2nd layer backprob\n",
    "      dh = (dlogits @ W2.T) \n",
    "      dW2 = h.T @ dlogits \n",
    "      db2 = dlogits.sum(0)\n",
    "      # tanh backprop\n",
    "      dhpreact = dh * (1 - torch.tanh(hpreact)**2)\n",
    "      # batchnorm backprop\n",
    "      dbngain = (bnraw * dhpreact).sum(0, keepdims=True)\n",
    "      dbnbias = dhpreact.sum(0, keepdims=True)\n",
    "      dhprebn = (bngain * bnvar_inv / n) * (\n",
    "              (-n/(n-1))*bnraw*((bnraw*dhpreact).sum(0))\n",
    "              + n*dhpreact\n",
    "              - dhpreact.sum(0)\n",
    "      )\n",
    "      # 1st layer\n",
    "      dembcat = dhprebn @ W1.T\n",
    "      dW1 = embcat.T @ dhprebn\n",
    "      db1 = dhprebn.sum(0)\n",
    "      # embedding\n",
    "      demb = dembcat.view(emb.shape)\n",
    "      dC = torch.zeros_like(C)\n",
    "      for k in range(Xb.shape[0]):\n",
    "          for j in range(Xb.shape[1]):\n",
    "              dC[Xb[k,j]] += demb[k,j]\n",
    "      \n",
    "      \n",
    "      # dC, dW1, db1, dW2, db2, dbngain, dbnbias = None, None, None, None, None, None, None\n",
    "      grads = [dC, dW1, db1, dW2, db2, dbngain, dbnbias]\n",
    "      # -----------------\n",
    "    \n",
    "      # update\n",
    "      lr = 0.1 if i < 100000 else 0.01 # step learning rate decay\n",
    "      for p, grad in zip(parameters, grads):\n",
    "        # p.data += -lr * p.grad # old way of cheems doge (using PyTorch grad from .backward())\n",
    "        p.data += -lr * grad # new way of swole doge TODO: enable\n",
    "    \n",
    "      # track stats\n",
    "      if i % 10000 == 0: # print every once in a while\n",
    "        print(f'{i:7d}/{max_steps:7d}: {loss.item():.4f}')\n",
    "      lossi.append(loss.log10().item())\n",
    "    \n",
    "      # if i >= 100: # TODO: delete early breaking when you're ready to train the full net\n",
    "      #   break"
   ],
   "metadata": {
    "collapsed": false,
    "ExecuteTime": {
     "end_time": "2023-12-21T21:15:17.557947Z",
     "start_time": "2023-12-21T21:12:45.597605Z"
    }
   },
   "id": "fed9449741f61962"
  },
  {
   "cell_type": "code",
   "execution_count": 243,
   "outputs": [
    {
     "ename": "TypeError",
     "evalue": "all(): argument 'input' (position 1) must be Tensor, not bool",
     "output_type": "error",
     "traceback": [
      "\u001B[0;31m---------------------------------------------------------------------------\u001B[0m",
      "\u001B[0;31mTypeError\u001B[0m                                 Traceback (most recent call last)",
      "Cell \u001B[0;32mIn[243], line 3\u001B[0m\n\u001B[1;32m      1\u001B[0m \u001B[38;5;66;03m# useful for checking your gradients\u001B[39;00m\n\u001B[1;32m      2\u001B[0m \u001B[38;5;28;01mfor\u001B[39;00m p,g \u001B[38;5;129;01min\u001B[39;00m \u001B[38;5;28mzip\u001B[39m(parameters, grads):\n\u001B[0;32m----> 3\u001B[0m   \u001B[43mcmp\u001B[49m\u001B[43m(\u001B[49m\u001B[38;5;28;43mstr\u001B[39;49m\u001B[43m(\u001B[49m\u001B[38;5;28;43mtuple\u001B[39;49m\u001B[43m(\u001B[49m\u001B[43mp\u001B[49m\u001B[38;5;241;43m.\u001B[39;49m\u001B[43mshape\u001B[49m\u001B[43m)\u001B[49m\u001B[43m)\u001B[49m\u001B[43m,\u001B[49m\u001B[43m \u001B[49m\u001B[43mg\u001B[49m\u001B[43m,\u001B[49m\u001B[43m \u001B[49m\u001B[43mp\u001B[49m\u001B[43m)\u001B[49m\n",
      "Cell \u001B[0;32mIn[56], line 3\u001B[0m, in \u001B[0;36mcmp\u001B[0;34m(s, dt, t)\u001B[0m\n\u001B[1;32m      2\u001B[0m \u001B[38;5;28;01mdef\u001B[39;00m \u001B[38;5;21mcmp\u001B[39m(s, dt, t):\n\u001B[0;32m----> 3\u001B[0m     ex \u001B[38;5;241m=\u001B[39m \u001B[43mtorch\u001B[49m\u001B[38;5;241;43m.\u001B[39;49m\u001B[43mall\u001B[49m\u001B[43m(\u001B[49m\u001B[43mdt\u001B[49m\u001B[43m \u001B[49m\u001B[38;5;241;43m==\u001B[39;49m\u001B[43m \u001B[49m\u001B[43mt\u001B[49m\u001B[38;5;241;43m.\u001B[39;49m\u001B[43mgrad\u001B[49m\u001B[43m)\u001B[49m\u001B[38;5;241m.\u001B[39mitem()\n\u001B[1;32m      4\u001B[0m     app \u001B[38;5;241m=\u001B[39m torch\u001B[38;5;241m.\u001B[39mallclose(dt, t\u001B[38;5;241m.\u001B[39mgrad)\n\u001B[1;32m      5\u001B[0m     maxdiff \u001B[38;5;241m=\u001B[39m (dt \u001B[38;5;241m-\u001B[39m t\u001B[38;5;241m.\u001B[39mgrad)\u001B[38;5;241m.\u001B[39mabs()\u001B[38;5;241m.\u001B[39mmax()\u001B[38;5;241m.\u001B[39mitem()\n",
      "\u001B[0;31mTypeError\u001B[0m: all(): argument 'input' (position 1) must be Tensor, not bool"
     ]
    }
   ],
   "source": [
    "# useful for checking your gradients\n",
    "# for p,g in zip(parameters, grads):\n",
    "#   cmp(str(tuple(p.shape)), g, p)"
   ],
   "metadata": {
    "collapsed": false,
    "ExecuteTime": {
     "end_time": "2023-12-21T21:15:31.318834Z",
     "start_time": "2023-12-21T21:15:31.307876Z"
    }
   },
   "id": "355e1913544bf7e1"
  },
  {
   "cell_type": "code",
   "execution_count": 244,
   "outputs": [],
   "source": [
    "# calibrate the batch norm at the end of training\n",
    "\n",
    "with torch.no_grad(): # since we aren't maintaining a running mean & variance\n",
    "  # pass the training set through\n",
    "  emb = C[Xtr]\n",
    "  embcat = emb.view(emb.shape[0], -1)\n",
    "  hpreact = embcat @ W1 + b1\n",
    "  # measure the mean/std over the entire training set\n",
    "  bnmean = hpreact.mean(0, keepdim=True)\n",
    "  bnvar = hpreact.var(0, keepdim=True, unbiased=True)"
   ],
   "metadata": {
    "collapsed": false,
    "ExecuteTime": {
     "end_time": "2023-12-21T21:15:42.958761Z",
     "start_time": "2023-12-21T21:15:42.872542Z"
    }
   },
   "id": "c804ec324ba46803"
  },
  {
   "cell_type": "code",
   "execution_count": 245,
   "outputs": [
    {
     "name": "stdout",
     "output_type": "stream",
     "text": [
      "train 2.0669243335723877\n",
      "val 2.1246795654296875\n"
     ]
    }
   ],
   "source": [
    "# evaluate train and val loss\n",
    "\n",
    "@torch.no_grad() # this decorator disables gradient tracking\n",
    "def split_loss(split):\n",
    "  x,y = {\n",
    "    'train': (Xtr, Ytr),\n",
    "    'val': (Xdev, Ydev),\n",
    "    'test': (Xte, Yte),\n",
    "  }[split]\n",
    "  emb = C[x] # (N, block_size, n_embd)\n",
    "  embcat = emb.view(emb.shape[0], -1) # concat into (N, block_size * n_embd)\n",
    "  hpreact = embcat @ W1 + b1\n",
    "  hpreact = bngain * (hpreact - bnmean) * (bnvar + 1e-5)**-0.5 + bnbias\n",
    "  h = torch.tanh(hpreact) # (N, n_hidden)\n",
    "  logits = h @ W2 + b2 # (N, vocab_size)\n",
    "  loss = F.cross_entropy(logits, y)\n",
    "  print(split, loss.item())\n",
    "\n",
    "split_loss('train')\n",
    "split_loss('val')"
   ],
   "metadata": {
    "collapsed": false,
    "ExecuteTime": {
     "end_time": "2023-12-21T21:15:43.984203Z",
     "start_time": "2023-12-21T21:15:43.884347Z"
    }
   },
   "id": "74c9f2253eb57e02"
  },
  {
   "cell_type": "code",
   "execution_count": 250,
   "outputs": [
    {
     "name": "stdout",
     "output_type": "stream",
     "text": [
      "carmahzati.\n",
      "harlikimri.\n",
      "reyty.\n",
      "skanden.\n",
      "jazonte.\n",
      "delynn.\n",
      "jareei.\n",
      "nellara.\n",
      "chaiivon.\n",
      "leigh.\n",
      "ham.\n",
      "joce.\n",
      "quintesslee.\n",
      "alianni.\n",
      "wavero.\n",
      "dearinix.\n",
      "kaellinsley.\n",
      "dae.\n",
      "iia.\n",
      "gian.\n"
     ]
    }
   ],
   "source": [
    "# sample from the model\n",
    "g = torch.Generator().manual_seed(2147483647 + 10)\n",
    "\n",
    "for _ in range(20):\n",
    "    \n",
    "    out = []\n",
    "    context = [0] * block_size # initialize with all ...\n",
    "    while True:\n",
    "      # ------------\n",
    "      # forward pass:\n",
    "      # Embedding\n",
    "      emb = C[torch.tensor([context])] # (1,block_size,d)      \n",
    "      embcat = emb.view(emb.shape[0], -1) # concat into (N, block_size * n_embd)\n",
    "      hpreact = embcat @ W1 + b1\n",
    "      hpreact = bngain * (hpreact - bnmean) * (bnvar + 1e-5)**-0.5 + bnbias\n",
    "      h = torch.tanh(hpreact) # (N, n_hidden)\n",
    "      logits = h @ W2 + b2 # (N, vocab_size)\n",
    "      # ------------\n",
    "      # Sample\n",
    "      probs = F.softmax(logits, dim=1)\n",
    "      ix = torch.multinomial(probs, num_samples=1, generator=g).item()\n",
    "      context = context[1:] + [ix]\n",
    "      out.append(ix)\n",
    "      if ix == 0:\n",
    "        break\n",
    "    \n",
    "    print(''.join(itos[i] for i in out))"
   ],
   "metadata": {
    "collapsed": false,
    "ExecuteTime": {
     "end_time": "2023-12-21T21:15:48.103813Z",
     "start_time": "2023-12-21T21:15:48.093837Z"
    }
   },
   "id": "6d1e8ddeffa01fe1"
  }
 ],
 "metadata": {
  "kernelspec": {
   "display_name": "Python 3",
   "language": "python",
   "name": "python3"
  },
  "language_info": {
   "codemirror_mode": {
    "name": "ipython",
    "version": 2
   },
   "file_extension": ".py",
   "mimetype": "text/x-python",
   "name": "python",
   "nbconvert_exporter": "python",
   "pygments_lexer": "ipython2",
   "version": "2.7.6"
  }
 },
 "nbformat": 4,
 "nbformat_minor": 5
}
