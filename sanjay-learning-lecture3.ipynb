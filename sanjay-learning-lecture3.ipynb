{
 "cells": [
  {
   "cell_type": "code",
   "execution_count": null,
   "id": "initial_id",
   "metadata": {
    "collapsed": true
   },
   "outputs": [],
   "source": [
    "# MLP Model to Predict Next Character in Sequence"
   ]
  },
  {
   "cell_type": "code",
   "execution_count": 31,
   "outputs": [],
   "source": [
    "import torch\n",
    "import torch.nn.functional as F\n",
    "import matplotlib.pyplot as plt\n",
    "#matplotlib inline"
   ],
   "metadata": {
    "collapsed": false,
    "ExecuteTime": {
     "end_time": "2023-12-09T05:37:39.595484Z",
     "start_time": "2023-12-09T05:37:37.102557Z"
    }
   },
   "id": "ee38ca4d2ce0d8d4"
  },
  {
   "cell_type": "code",
   "execution_count": 3,
   "outputs": [
    {
     "data": {
      "text/plain": "['emma', 'olivia', 'ava', 'isabella', 'sophia', 'charlotte', 'mia', 'amelia']"
     },
     "execution_count": 3,
     "metadata": {},
     "output_type": "execute_result"
    }
   ],
   "source": [
    "# read all the words\n",
    "words = open('names.txt', 'r').read().splitlines()\n",
    "words[:8]"
   ],
   "metadata": {
    "collapsed": false,
    "ExecuteTime": {
     "end_time": "2023-12-09T05:22:36.968435Z",
     "start_time": "2023-12-09T05:22:36.963859Z"
    }
   },
   "id": "be8bbd92186f8158"
  },
  {
   "cell_type": "code",
   "execution_count": 4,
   "outputs": [
    {
     "data": {
      "text/plain": "32033"
     },
     "execution_count": 4,
     "metadata": {},
     "output_type": "execute_result"
    }
   ],
   "source": [
    "len(words)"
   ],
   "metadata": {
    "collapsed": false,
    "ExecuteTime": {
     "end_time": "2023-12-09T05:22:57.428392Z",
     "start_time": "2023-12-09T05:22:57.424858Z"
    }
   },
   "id": "b4e460038e4cf61b"
  },
  {
   "cell_type": "code",
   "execution_count": 41,
   "outputs": [
    {
     "name": "stdout",
     "output_type": "stream",
     "text": [
      "{1: 'a', 2: 'b', 3: 'c', 4: 'd', 5: 'e', 6: 'f', 7: 'g', 8: 'h', 9: 'i', 10: 'j', 11: 'k', 12: 'l', 13: 'm', 14: 'n', 15: 'o', 16: 'p', 17: 'q', 18: 'r', 19: 's', 20: 't', 21: 'u', 22: 'v', 23: 'w', 24: 'x', 25: 'y', 26: 'z', 0: '.'}\n"
     ]
    }
   ],
   "source": [
    "# build stoi, itos\n",
    "chars = sorted(list(set(''.join(words)))) # a to z\n",
    "stoi = {s:i+1 for i,s in enumerate(chars)}\n",
    "stoi['.'] = 0\n",
    "itos = {i:s for s,i in stoi.items()}\n",
    "print(itos)"
   ],
   "metadata": {
    "collapsed": false,
    "ExecuteTime": {
     "end_time": "2023-12-09T05:38:45.116822Z",
     "start_time": "2023-12-09T05:38:45.114481Z"
    }
   },
   "id": "9e1ccb8fa1f3dd3b"
  },
  {
   "cell_type": "code",
   "execution_count": 152,
   "outputs": [],
   "source": [
    "# build the training dataset\n",
    "block_size = 3 # context length. 1 => bigram\n",
    "X, Y = [], [] # inputs, output (label)\n",
    "\n",
    "# for w in words[:5]:\n",
    "for w in words:\n",
    "    context = [0] * block_size # zero-array with len=block_size\n",
    "    for ch in w + '.':\n",
    "        ix = stoi[ch]\n",
    "        X.append(context)\n",
    "        Y.append(ix)\n",
    "        # print(''.join(itos[i] for i in context), '--->', itos[ix], '    training data:', context)\n",
    "        context = context[1:] + [ix] # crop & append\n",
    "\n",
    "X = torch.tensor(X)\n",
    "Y = torch.tensor(Y)"
   ],
   "metadata": {
    "collapsed": false,
    "ExecuteTime": {
     "end_time": "2023-12-09T18:58:12.946794Z",
     "start_time": "2023-12-09T18:58:12.745209Z"
    }
   },
   "id": "22278b48f2980e80"
  },
  {
   "cell_type": "code",
   "execution_count": 154,
   "outputs": [
    {
     "data": {
      "text/plain": "(torch.Size([228146, 3]), torch.int64, torch.Size([228146]), torch.int64)"
     },
     "execution_count": 154,
     "metadata": {},
     "output_type": "execute_result"
    }
   ],
   "source": [
    "X.shape, X.dtype, Y.shape, Y.dtype"
   ],
   "metadata": {
    "collapsed": false,
    "ExecuteTime": {
     "end_time": "2023-12-09T18:58:14.276688Z",
     "start_time": "2023-12-09T18:58:14.272784Z"
    }
   },
   "id": "d8bb0d256f9499df"
  },
  {
   "cell_type": "code",
   "execution_count": 50,
   "outputs": [
    {
     "data": {
      "text/plain": "tensor([[-1.2543,  0.0759],\n        [-0.7247,  0.4800],\n        [ 1.1438, -0.5919],\n        [ 1.2889, -2.5226],\n        [-0.0680,  0.2626],\n        [ 0.3561,  0.7881],\n        [-0.3524,  1.0973],\n        [-1.3183, -0.5102],\n        [ 0.0869,  1.3165],\n        [-0.1901, -2.4250],\n        [-0.9328, -0.7188],\n        [ 0.4603,  0.5981],\n        [ 0.0542,  0.3590],\n        [ 1.2589,  1.0805],\n        [ 1.1352,  0.5162],\n        [ 2.0351,  1.4536],\n        [-0.0129,  0.9276],\n        [ 0.9687,  0.9717],\n        [ 0.8745, -0.3991],\n        [-2.3046, -0.4415],\n        [-0.2408, -0.5184],\n        [ 1.0093, -0.2649],\n        [-0.1472,  0.1798],\n        [-0.2978, -0.9138],\n        [ 0.7083, -0.3547],\n        [ 0.1753, -0.2412],\n        [ 0.6811, -0.4441]])"
     },
     "execution_count": 50,
     "metadata": {},
     "output_type": "execute_result"
    }
   ],
   "source": [
    "# lookup table\n",
    "# cram the 27 characters into a 2 dimensional space\n",
    "# the paper for example https://www.jmlr.org/papers/volume3/bengio03a/bengio03a.pdf crams 17000 words into a 30 dimensional space\n",
    "C = torch.randn(27, 2) # 27 rows, 2 columns\n",
    "C"
   ],
   "metadata": {
    "collapsed": false,
    "ExecuteTime": {
     "end_time": "2023-12-09T05:49:47.707830Z",
     "start_time": "2023-12-09T05:49:47.703564Z"
    }
   },
   "id": "371fd05c4c91f364"
  },
  {
   "cell_type": "code",
   "execution_count": 55,
   "outputs": [
    {
     "name": "stdout",
     "output_type": "stream",
     "text": [
      "tensor([0.3561, 0.7881])\n"
     ]
    },
    {
     "data": {
      "text/plain": "tensor([0.3561, 0.7881])"
     },
     "execution_count": 55,
     "metadata": {},
     "output_type": "execute_result"
    }
   ],
   "source": [
    "# example: indexing into character 'e' in lookup C can either be done by C[5] or, by using one_hot encoding\n",
    "print(C[5])\n",
    "F.one_hot(torch.tensor(5), num_classes=27).float() @ C"
   ],
   "metadata": {
    "collapsed": false,
    "ExecuteTime": {
     "end_time": "2023-12-09T05:58:59.677305Z",
     "start_time": "2023-12-09T05:58:59.670478Z"
    }
   },
   "id": "5458b340b5c82419"
  },
  {
   "cell_type": "code",
   "execution_count": 62,
   "outputs": [
    {
     "name": "stdout",
     "output_type": "stream",
     "text": [
      "tensor([[ 0.3561,  0.7881],\n",
      "        [-0.3524,  1.0973],\n",
      "        [-1.3183, -0.5102],\n",
      "        [-1.3183, -0.5102]])\n",
      "tensor([[ 0.3561,  0.7881],\n",
      "        [-0.3524,  1.0973],\n",
      "        [-1.3183, -0.5102],\n",
      "        [-1.3183, -0.5102]])\n"
     ]
    }
   ],
   "source": [
    "# below are equivalent\n",
    "print(C[[5,6,7,7]])\n",
    "print(C[torch.tensor([5,6,7,7])])"
   ],
   "metadata": {
    "collapsed": false,
    "ExecuteTime": {
     "end_time": "2023-12-09T17:38:55.148459Z",
     "start_time": "2023-12-09T17:38:55.143254Z"
    }
   },
   "id": "f99ecfff237927c7"
  },
  {
   "cell_type": "code",
   "execution_count": 79,
   "outputs": [
    {
     "name": "stdout",
     "output_type": "stream",
     "text": [
      "torch.Size([32, 3, 2])\n"
     ]
    }
   ],
   "source": [
    "# You can also index into C with a 2 dimensional tensor of integers\n",
    "\n",
    "emb = C[X]\n",
    "print(C[X].shape) \n",
    "# torch.Size([32, 3, 2])\n",
    "# 32 training data; 3 numbers per training data; 2 dimensions per number\n",
    "# pytorch indexing is awesome"
   ],
   "metadata": {
    "collapsed": false,
    "ExecuteTime": {
     "end_time": "2023-12-09T17:47:06.506270Z",
     "start_time": "2023-12-09T17:47:06.501767Z"
    }
   },
   "id": "c51cafcc2d408c04"
  },
  {
   "cell_type": "code",
   "execution_count": 117,
   "outputs": [
    {
     "name": "stdout",
     "output_type": "stream",
     "text": [
      "torch.Size([32, 2])\n",
      "torch.Size([32, 6])\n",
      "torch.Size([32, 6])\n",
      "torch.Size([32, 6])\n"
     ]
    }
   ],
   "source": [
    "# hidden layer\n",
    "\n",
    "# number of inputs is 3x2: Three 2 dimensional embeddings\n",
    "# number of neurons = 100\n",
    "W1 = torch.randn(6, 100)\n",
    "b1 = torch.randn(100)\n",
    "\n",
    "# what we want is: emb @ W1 + b1\n",
    "# for that, we need to convert emb from 32x3x2 to 32x6\n",
    "# some ways to do this:\n",
    "\n",
    "# 1. by concatenation -\n",
    "print(emb[:, 0, :].shape)\n",
    "print(torch.cat([emb[:, 0, :], emb[:, 1, :], emb[:, 2, :]], 1).shape)\n",
    "# simplifying it, and generalizing it.\n",
    "# unbind splits along a specific dimension.\n",
    "print(torch.cat(torch.unbind(emb, 1), 1).shape)\n",
    "\n",
    "# 2. by changing views -\n",
    "print(emb.view(32, 6).shape)\n",
    "# Extremely fast, dimensional changes, no change to storage\n",
    "# confirm equivalent via:\n",
    "# (emb.view(32, 6) == torch.cat(torch.unbind(emb, 1), 1))\n",
    "\n",
    "# using -1 will make pytorch derive the dimension\n",
    "h = torch.tanh(emb.view(-1, 6) @ W1 + b1)\n",
    "# what is happening here ?\n",
    "# 6 inputs to hidden layer of 100 neurons\n",
    "# multiplying it and adding biases, we get activations.\n",
    "# except, this is being done for all training data at the same time.\n",
    "# emb.view(-1, 6) is 32x6; W1 is 6x100 so result is 32x100 + b1, which is [100]\n",
    "# 32x100 + 100 === 32x100 + 1x100 (broadcasting rules)\n",
    "# so the bias vector is added to each of the 32 rows"
   ],
   "metadata": {
    "collapsed": false,
    "ExecuteTime": {
     "end_time": "2023-12-09T18:15:43.359591Z",
     "start_time": "2023-12-09T18:15:43.356079Z"
    }
   },
   "id": "b6ff16f6ca4bf688"
  },
  {
   "cell_type": "code",
   "execution_count": 119,
   "outputs": [],
   "source": [
    "# Final layer (output)\n",
    "# 27 outputs\n",
    "\n",
    "W2 = torch.randn(100, 27)\n",
    "b2 = torch.randn(27)"
   ],
   "metadata": {
    "collapsed": false,
    "ExecuteTime": {
     "end_time": "2023-12-09T18:22:02.835371Z",
     "start_time": "2023-12-09T18:22:02.832461Z"
    }
   },
   "id": "7cce177171241601"
  },
  {
   "cell_type": "code",
   "execution_count": 120,
   "outputs": [
    {
     "data": {
      "text/plain": "torch.Size([32, 27])"
     },
     "execution_count": 120,
     "metadata": {},
     "output_type": "execute_result"
    }
   ],
   "source": [
    "logits = h @ W2 + b2\n",
    "logits.shape"
   ],
   "metadata": {
    "collapsed": false,
    "ExecuteTime": {
     "end_time": "2023-12-09T18:22:03.670774Z",
     "start_time": "2023-12-09T18:22:03.666370Z"
    }
   },
   "id": "5eb2cf8fcdc37de3"
  },
  {
   "cell_type": "code",
   "execution_count": 124,
   "outputs": [
    {
     "name": "stdout",
     "output_type": "stream",
     "text": [
      "torch.Size([32, 27])\n"
     ]
    }
   ],
   "source": [
    "counts = logits.exp()\n",
    "prob = counts / counts.sum(1, keepdims = True)\n",
    "print(prob.shape)"
   ],
   "metadata": {
    "collapsed": false,
    "ExecuteTime": {
     "end_time": "2023-12-09T18:23:01.372404Z",
     "start_time": "2023-12-09T18:23:01.367905Z"
    }
   },
   "id": "8cad1108360911f7"
  },
  {
   "cell_type": "code",
   "execution_count": 130,
   "outputs": [
    {
     "name": "stdout",
     "output_type": "stream",
     "text": [
      "tensor([9.0918e-13, 2.7426e-12, 3.5438e-09, 2.9452e-11, 4.8875e-09, 3.2843e-07,\n",
      "        9.8846e-11, 1.5821e-06, 6.9024e-05, 1.1974e-06, 2.9102e-09, 1.0895e-11,\n",
      "        3.1192e-05, 1.1615e-11, 3.9840e-11, 8.8743e-03, 2.8277e-03, 3.8915e-03,\n",
      "        1.8193e-06, 6.0760e-01, 6.1072e-09, 1.0393e-07, 1.7618e-04, 3.2526e-11,\n",
      "        2.0817e-01, 1.3766e-06, 6.9147e-06, 1.6680e-10, 9.7529e-01, 2.2009e-03,\n",
      "        5.2569e-06, 2.8097e-12])\n",
      "tensor(15.2541)\n"
     ]
    }
   ],
   "source": [
    "# for each row, we want to pluck out probability assigned to character in Y (label data), since we want to maximize that\n",
    "print(prob[torch.arange(32), Y])\n",
    "\n",
    "# loss function: -nll\n",
    "loss = -prob[torch.arange(32), Y].log().mean()\n",
    "print(loss) # we want to minimize this"
   ],
   "metadata": {
    "collapsed": false,
    "ExecuteTime": {
     "end_time": "2023-12-09T18:28:30.603552Z",
     "start_time": "2023-12-09T18:28:30.597508Z"
    }
   },
   "id": "75853b032e054b1d"
  },
  {
   "cell_type": "markdown",
   "source": [
    "# Tying everything above together"
   ],
   "metadata": {
    "collapsed": false
   },
   "id": "506f8b7fc1d8cc97"
  },
  {
   "cell_type": "code",
   "execution_count": 131,
   "outputs": [
    {
     "data": {
      "text/plain": "(torch.Size([32, 3]), torch.Size([32]))"
     },
     "execution_count": 131,
     "metadata": {},
     "output_type": "execute_result"
    }
   ],
   "source": [
    "X.shape, Y.shape"
   ],
   "metadata": {
    "collapsed": false,
    "ExecuteTime": {
     "end_time": "2023-12-09T18:29:46.082957Z",
     "start_time": "2023-12-09T18:29:46.076874Z"
    }
   },
   "id": "8f94212f0a751414"
  },
  {
   "cell_type": "code",
   "execution_count": 247,
   "outputs": [],
   "source": [
    "# 6x100x27 neural net\n",
    "g = torch.Generator().manual_seed(2147483647)\n",
    "C = torch.randn((27, 2), generator=g)\n",
    "W1 = torch.randn((6, 100), generator=g)\n",
    "b1 = torch.randn(100, generator=g)\n",
    "W2 = torch.randn((100,27), generator=g)\n",
    "b2 = torch.randn(27, generator=g)\n",
    "parameters = [C, W1, b1, W2, b2]\n",
    "for p in parameters:\n",
    "    p.requires_grad = True"
   ],
   "metadata": {
    "collapsed": false,
    "ExecuteTime": {
     "end_time": "2023-12-09T20:08:57.598389Z",
     "start_time": "2023-12-09T20:08:57.591019Z"
    }
   },
   "id": "cf3e05f9a4c68ada"
  },
  {
   "cell_type": "code",
   "execution_count": 156,
   "outputs": [
    {
     "data": {
      "text/plain": "3481"
     },
     "execution_count": 156,
     "metadata": {},
     "output_type": "execute_result"
    }
   ],
   "source": [
    "sum(p.nelement() for p in parameters) # number of parameters in total"
   ],
   "metadata": {
    "collapsed": false,
    "ExecuteTime": {
     "end_time": "2023-12-09T18:58:35.018708Z",
     "start_time": "2023-12-09T18:58:35.012038Z"
    }
   },
   "id": "65cc675fe437d495"
  },
  {
   "cell_type": "code",
   "execution_count": 140,
   "outputs": [
    {
     "name": "stdout",
     "output_type": "stream",
     "text": [
      "tensor(17.7697)\n"
     ]
    }
   ],
   "source": [
    "# forward pass\n",
    "emb = C[X] # 32x3x2\n",
    "h = torch.tanh(emb.view(-1, 6) @ W1 + b1) # 32x100\n",
    "logits = h @ W2 + b2 # 32x27\n",
    "\n",
    "# loss function\n",
    "counts = logits.exp()\n",
    "prob = counts / counts.sum(1, keepdims=True)\n",
    "loss = -prob[torch.arange(32), Y].log().mean()\n",
    "print(loss)"
   ],
   "metadata": {
    "collapsed": false,
    "ExecuteTime": {
     "end_time": "2023-12-09T18:44:25.377370Z",
     "start_time": "2023-12-09T18:44:25.375135Z"
    }
   },
   "id": "eab4dc6a2e77d196"
  },
  {
   "cell_type": "code",
   "execution_count": 141,
   "outputs": [
    {
     "name": "stdout",
     "output_type": "stream",
     "text": [
      "tensor(17.7697)\n"
     ]
    }
   ],
   "source": [
    "# Cool part: The entire loss function is standardized into F.cross_entropy\n",
    "# which is essentially what we should use for classification problems, and is more efficient\n",
    "print(F.cross_entropy(logits, Y))"
   ],
   "metadata": {
    "collapsed": false,
    "ExecuteTime": {
     "end_time": "2023-12-09T18:44:30.130168Z",
     "start_time": "2023-12-09T18:44:30.125631Z"
    }
   },
   "id": "6bb5d90a5922099a"
  },
  {
   "cell_type": "code",
   "execution_count": 161,
   "outputs": [
    {
     "name": "stdout",
     "output_type": "stream",
     "text": [
      "8.329230308532715\n",
      "8.144328117370605\n",
      "7.966794967651367\n",
      "7.796453475952148\n",
      "7.6331892013549805\n",
      "7.4769110679626465\n",
      "7.3275251388549805\n",
      "7.18488883972168\n",
      "7.048794746398926\n",
      "6.918956279754639\n"
     ]
    }
   ],
   "source": [
    "for _ in range(10):\n",
    "    # forward pass\n",
    "    emb = C[X] # 228146x3x2\n",
    "    h = torch.tanh(emb.view(-1, 6) @ W1 + b1) # 228146x100\n",
    "    logits = h @ W2 + b2 # 228146x27\n",
    "    loss = F.cross_entropy(logits, Y)\n",
    "    print(loss.item())\n",
    "    \n",
    "    # backward pass\n",
    "    for p in parameters:\n",
    "        p.grad = None\n",
    "    loss.backward()\n",
    "    \n",
    "    # update\n",
    "    for p in parameters:\n",
    "        p.data += -0.1 * p.grad\n",
    "\n"
   ],
   "metadata": {
    "collapsed": false,
    "ExecuteTime": {
     "end_time": "2023-12-09T18:59:21.766160Z",
     "start_time": "2023-12-09T18:59:19.942935Z"
    }
   },
   "id": "d69f47445952096c"
  },
  {
   "cell_type": "markdown",
   "source": [
    "# above takes too long since we are running forward and backward pass on a dataset of size 228146. In reality, training is done in batches."
   ],
   "metadata": {
    "collapsed": false
   },
   "id": "92a54e5715e8ad0b"
  },
  {
   "cell_type": "code",
   "execution_count": 177,
   "outputs": [
    {
     "data": {
      "text/plain": "tensor([4, 4, 4, 2, 1, 3, 4, 2, 2, 4, 4, 3, 4, 4, 2, 3, 2, 0, 4, 1, 2, 3, 1, 4,\n        0, 1, 2, 3, 1, 2, 2, 4])"
     },
     "execution_count": 177,
     "metadata": {},
     "output_type": "execute_result"
    }
   ],
   "source": [
    "# below generates numbers between zero and 5, and generates 32 of them\n",
    "torch.randint(0, 5, (32,)) "
   ],
   "metadata": {
    "collapsed": false,
    "ExecuteTime": {
     "end_time": "2023-12-09T19:19:46.869700Z",
     "start_time": "2023-12-09T19:19:46.863913Z"
    }
   },
   "id": "18e796fb4d26330"
  },
  {
   "cell_type": "code",
   "execution_count": 194,
   "outputs": [
    {
     "name": "stdout",
     "output_type": "stream",
     "text": [
      "20.04845428466797\n",
      "30.315080642700195\n",
      "46.94538497924805\n",
      "33.31100082397461\n",
      "58.64977264404297\n",
      "73.1107406616211\n",
      "79.67898559570312\n",
      "89.60714721679688\n",
      "72.86589813232422\n",
      "57.464996337890625\n",
      "55.16591262817383\n",
      "71.26180267333984\n",
      "52.350852966308594\n",
      "50.68392562866211\n",
      "69.63793182373047\n",
      "47.982295989990234\n",
      "57.372291564941406\n",
      "92.12295532226562\n",
      "76.15151977539062\n",
      "89.41002655029297\n",
      "125.60802459716797\n",
      "102.44636535644531\n",
      "86.48458862304688\n",
      "105.43888854980469\n",
      "63.032203674316406\n",
      "65.77123260498047\n",
      "59.73176956176758\n",
      "59.29250717163086\n",
      "86.7674789428711\n",
      "72.65473937988281\n",
      "99.30374908447266\n",
      "83.57038116455078\n",
      "66.83503723144531\n",
      "83.01271057128906\n",
      "105.08273315429688\n",
      "42.41501998901367\n",
      "97.78849029541016\n",
      "98.2080078125\n",
      "53.23658752441406\n",
      "65.515869140625\n",
      "86.58196258544922\n",
      "64.1628646850586\n",
      "67.46561431884766\n",
      "67.76799774169922\n",
      "52.951847076416016\n",
      "75.42171478271484\n",
      "86.67947387695312\n",
      "71.90614318847656\n",
      "117.56005859375\n",
      "85.37887573242188\n",
      "94.45606994628906\n",
      "79.40536499023438\n",
      "85.07559204101562\n",
      "58.703033447265625\n",
      "57.9099235534668\n",
      "47.74909973144531\n",
      "45.20514678955078\n",
      "52.71620559692383\n",
      "70.64834594726562\n",
      "62.61561584472656\n",
      "73.34393310546875\n",
      "81.98258972167969\n",
      "51.78384780883789\n",
      "57.527976989746094\n",
      "45.877296447753906\n",
      "46.53194808959961\n",
      "82.20488739013672\n",
      "87.79044342041016\n",
      "71.29467010498047\n",
      "62.292724609375\n",
      "81.38274383544922\n",
      "43.163482666015625\n",
      "98.22319030761719\n",
      "87.29393005371094\n",
      "61.74822235107422\n",
      "59.19866943359375\n",
      "79.10906982421875\n",
      "54.706607818603516\n",
      "75.52075958251953\n",
      "68.58631896972656\n",
      "75.4686050415039\n",
      "83.57048034667969\n",
      "48.744834899902344\n",
      "42.85123062133789\n",
      "84.30427551269531\n",
      "57.76461410522461\n",
      "67.84706115722656\n",
      "74.8512191772461\n",
      "96.74954986572266\n",
      "70.7293930053711\n",
      "59.430416107177734\n",
      "80.82087707519531\n",
      "93.06578826904297\n",
      "71.86293029785156\n",
      "66.34101867675781\n",
      "92.25273132324219\n",
      "67.44707489013672\n",
      "99.3084945678711\n",
      "83.79095458984375\n",
      "92.76716613769531\n"
     ]
    }
   ],
   "source": [
    "# Using mini batch\n",
    "\n",
    "for _ in range(100):\n",
    "    # minibatch construct with size = 32\n",
    "    # use below ix to index into X and Y\n",
    "    ix = torch.randint(0, X.shape[0], (32,))\n",
    "    \n",
    "    # forward pass\n",
    "    emb = C[X[ix]] # 32x3x2\n",
    "    h = torch.tanh(emb.view(-1, 6) @ W1 + b1) # 32x100\n",
    "    logits = h @ W2 + b2 # 32x27\n",
    "    loss = F.cross_entropy(logits, Y[ix])\n",
    "    print(loss.item())\n",
    "    \n",
    "    # backward pass\n",
    "    for p in parameters:\n",
    "        p.grad = None\n",
    "    loss.backward()\n",
    "    \n",
    "    # update\n",
    "    for p in parameters:\n",
    "        p.data += -0.1 * p.grad"
   ],
   "metadata": {
    "collapsed": false,
    "ExecuteTime": {
     "end_time": "2023-12-09T19:28:50.737628Z",
     "start_time": "2023-12-09T19:28:50.710150Z"
    }
   },
   "id": "8e2f4c480a44845d"
  },
  {
   "cell_type": "markdown",
   "source": [
    "# Above is way faster, at the cost of not choosing the perfect gradient.\n",
    "# What this shows is that it's much better to take more steps in approximate gradient than slow steps with accurate gradients"
   ],
   "metadata": {
    "collapsed": false
   },
   "id": "4f55568994452c73"
  },
  {
   "cell_type": "code",
   "execution_count": 184,
   "outputs": [
    {
     "data": {
      "text/plain": "tensor(2.4816, grad_fn=<NllLossBackward0>)"
     },
     "execution_count": 184,
     "metadata": {},
     "output_type": "execute_result"
    }
   ],
   "source": [
    "# overall loss\n",
    "emb = C[X]\n",
    "h = torch.tanh(emb.view(-1, 6) @ W1 + b1) # 32x100\n",
    "logits = h @ W2 + b2\n",
    "loss = F.cross_entropy(logits, Y)\n",
    "loss"
   ],
   "metadata": {
    "collapsed": false,
    "ExecuteTime": {
     "end_time": "2023-12-09T19:24:43.793656Z",
     "start_time": "2023-12-09T19:24:43.742739Z"
    }
   },
   "id": "44360b44b8035010"
  },
  {
   "cell_type": "markdown",
   "source": [
    "# Tip: How to determine a reasonable learning rate ?\n",
    "# Print loss at each step, and see if it's decreasing reasonably.\n",
    "# Low learning rate (0.001) => decreases are barely noticeable every 100 iterations\n",
    "# High learning rate (1) => unstable\n",
    "# Too high learning rate (10) => too unstable, loss increases\n",
    "\n",
    "# So, we know we want something in between 0.001 and 1, we can plot loss change wrt learning rate like below"
   ],
   "metadata": {
    "collapsed": false
   },
   "id": "9bcd09ce36d6b303"
  },
  {
   "cell_type": "code",
   "execution_count": 213,
   "outputs": [
    {
     "data": {
      "text/plain": "[<matplotlib.lines.Line2D at 0x28dd26310>]"
     },
     "execution_count": 213,
     "metadata": {},
     "output_type": "execute_result"
    },
    {
     "data": {
      "text/plain": "<Figure size 640x480 with 1 Axes>",
      "image/png": "[encoded data removed]"
     },
     "metadata": {},
     "output_type": "display_data"
    }
   ],
   "source": [
    "# creating learning rate candidates between -0.001 and -1, with exponential decay\n",
    "lre = torch.linspace(-3, 0, 1000)\n",
    "lrs = 10**lre\n",
    "lrs\n",
    "plt.plot(lrs)"
   ],
   "metadata": {
    "collapsed": false,
    "ExecuteTime": {
     "end_time": "2023-12-09T19:44:06.848293Z",
     "start_time": "2023-12-09T19:44:06.782249Z"
    }
   },
   "id": "fd0c8eb0cd376878"
  },
  {
   "cell_type": "code",
   "execution_count": 218,
   "outputs": [
    {
     "name": "stdout",
     "output_type": "stream",
     "text": [
      "8.848243713378906\n",
      "10.254158020019531\n",
      "10.970457077026367\n",
      "8.622817039489746\n",
      "9.807044982910156\n",
      "8.237765312194824\n",
      "9.310035705566406\n",
      "8.068034172058105\n",
      "9.60606861114502\n",
      "9.246604919433594\n",
      "9.432703018188477\n",
      "8.118677139282227\n",
      "9.028709411621094\n",
      "9.113194465637207\n",
      "7.6128106117248535\n",
      "8.426941871643066\n",
      "9.151798248291016\n",
      "11.377342224121094\n",
      "8.625144004821777\n",
      "8.349547386169434\n",
      "7.722926616668701\n",
      "9.504220962524414\n",
      "10.02465534210205\n",
      "9.932746887207031\n",
      "7.549596309661865\n",
      "10.880911827087402\n",
      "8.646660804748535\n",
      "9.7676420211792\n",
      "9.211591720581055\n",
      "9.36791706085205\n",
      "6.829631328582764\n",
      "7.858790874481201\n",
      "9.478151321411133\n",
      "8.975810050964355\n",
      "8.654661178588867\n",
      "7.322317123413086\n",
      "8.868688583374023\n",
      "8.264164924621582\n",
      "9.15020751953125\n",
      "6.970569133758545\n",
      "7.134612083435059\n",
      "9.019259452819824\n",
      "9.773761749267578\n",
      "10.47582721710205\n",
      "10.338351249694824\n",
      "8.474041938781738\n",
      "7.866513729095459\n",
      "7.522794723510742\n",
      "9.387890815734863\n",
      "10.513896942138672\n",
      "8.497529029846191\n",
      "10.194086074829102\n",
      "7.060439109802246\n",
      "8.554845809936523\n",
      "8.590127944946289\n",
      "8.823284149169922\n",
      "9.435406684875488\n",
      "6.768089294433594\n",
      "7.77490758895874\n",
      "7.015305995941162\n",
      "9.356864929199219\n",
      "9.187647819519043\n",
      "9.080313682556152\n",
      "7.961228847503662\n",
      "7.595856666564941\n",
      "7.402233123779297\n",
      "8.09421443939209\n",
      "10.603007316589355\n",
      "7.235351085662842\n",
      "8.747444152832031\n",
      "8.965435028076172\n",
      "7.546466827392578\n",
      "9.358781814575195\n",
      "6.972781181335449\n",
      "8.167435646057129\n",
      "7.000490188598633\n",
      "7.30941915512085\n",
      "6.588354587554932\n",
      "6.8603973388671875\n",
      "8.373116493225098\n",
      "7.291076183319092\n",
      "7.534556865692139\n",
      "11.479968070983887\n",
      "8.38510513305664\n",
      "9.094078063964844\n",
      "8.626628875732422\n",
      "9.393925666809082\n",
      "8.803030014038086\n",
      "9.980985641479492\n",
      "8.53572940826416\n",
      "7.810566425323486\n",
      "8.435931205749512\n",
      "8.033947944641113\n",
      "8.97165298461914\n",
      "7.994155406951904\n",
      "8.22175407409668\n",
      "9.348448753356934\n",
      "9.278510093688965\n",
      "6.39854097366333\n",
      "7.850013256072998\n",
      "8.800041198730469\n",
      "8.470917701721191\n",
      "7.974822521209717\n",
      "8.534321784973145\n",
      "6.929962635040283\n",
      "8.124302864074707\n",
      "9.23119068145752\n",
      "8.082538604736328\n",
      "9.400446891784668\n",
      "6.990820407867432\n",
      "5.908010959625244\n",
      "9.913516998291016\n",
      "7.153061389923096\n",
      "8.2255859375\n",
      "7.427443981170654\n",
      "8.48691177368164\n",
      "8.997455596923828\n",
      "9.071768760681152\n",
      "10.898865699768066\n",
      "6.041179656982422\n",
      "8.925868034362793\n",
      "7.79209566116333\n",
      "6.938661575317383\n",
      "8.810468673706055\n",
      "5.976848125457764\n",
      "5.44140625\n",
      "9.017181396484375\n",
      "7.006132125854492\n",
      "8.833189964294434\n",
      "5.944023609161377\n",
      "8.061514854431152\n",
      "10.482589721679688\n",
      "7.50042200088501\n",
      "6.607400894165039\n",
      "9.965535163879395\n",
      "5.80679178237915\n",
      "8.136646270751953\n",
      "7.173019886016846\n",
      "7.658387660980225\n",
      "8.075560569763184\n",
      "6.544865131378174\n",
      "7.1181488037109375\n",
      "8.142712593078613\n",
      "6.1745147705078125\n",
      "6.29326057434082\n",
      "7.335430145263672\n",
      "8.203408241271973\n",
      "5.269509792327881\n",
      "8.713306427001953\n",
      "7.4608612060546875\n",
      "8.191871643066406\n",
      "7.538917064666748\n",
      "8.397446632385254\n",
      "7.172262191772461\n",
      "7.692916393280029\n",
      "8.02287483215332\n",
      "8.222159385681152\n",
      "8.286646842956543\n",
      "6.752692699432373\n",
      "6.658557891845703\n",
      "7.967173099517822\n",
      "7.258330345153809\n",
      "8.082348823547363\n",
      "8.026080131530762\n",
      "7.62374210357666\n",
      "7.077360153198242\n",
      "5.55094051361084\n",
      "6.239096641540527\n",
      "7.322565078735352\n",
      "8.546622276306152\n",
      "6.099573135375977\n",
      "6.988940715789795\n",
      "5.20770263671875\n",
      "8.06399154663086\n",
      "7.436860084533691\n",
      "6.741305828094482\n",
      "6.044368267059326\n",
      "5.807111740112305\n",
      "7.418063163757324\n",
      "6.421922206878662\n",
      "8.053281784057617\n",
      "7.02156925201416\n",
      "6.87799596786499\n",
      "6.910511493682861\n",
      "6.051567554473877\n",
      "6.188015937805176\n",
      "8.117664337158203\n",
      "7.968744277954102\n",
      "8.987984657287598\n",
      "6.943819999694824\n",
      "9.226228713989258\n",
      "5.628201007843018\n",
      "6.723659515380859\n",
      "6.828413009643555\n",
      "6.352684497833252\n",
      "5.680587291717529\n",
      "8.770498275756836\n",
      "6.44708251953125\n",
      "6.230649948120117\n",
      "7.157257080078125\n",
      "6.619926452636719\n",
      "6.828530788421631\n",
      "6.213037490844727\n",
      "6.768167018890381\n",
      "5.452056884765625\n",
      "7.747784614562988\n",
      "5.983165264129639\n",
      "6.134764194488525\n",
      "6.137640953063965\n",
      "6.836241722106934\n",
      "6.502645492553711\n",
      "7.288928985595703\n",
      "8.102094650268555\n",
      "4.81385612487793\n",
      "6.226640701293945\n",
      "6.486717700958252\n",
      "5.6975507736206055\n",
      "6.445991039276123\n",
      "5.625694751739502\n",
      "7.446745872497559\n",
      "5.299433708190918\n",
      "6.8033037185668945\n",
      "6.146390914916992\n",
      "5.7886643409729\n",
      "6.747577667236328\n",
      "6.2065958976745605\n",
      "6.374547958374023\n",
      "6.062634468078613\n",
      "6.167455196380615\n",
      "5.527921199798584\n",
      "7.52867317199707\n",
      "7.078153133392334\n",
      "4.702314376831055\n",
      "6.847988128662109\n",
      "8.73943042755127\n",
      "5.8748626708984375\n",
      "5.882108688354492\n",
      "6.600234031677246\n",
      "6.407755374908447\n",
      "5.602049827575684\n",
      "6.9012770652771\n",
      "6.092566013336182\n",
      "6.392246246337891\n",
      "6.716361999511719\n",
      "5.034275054931641\n",
      "5.8862624168396\n",
      "6.33489990234375\n",
      "5.028282642364502\n",
      "6.407479763031006\n",
      "6.192564010620117\n",
      "5.32362174987793\n",
      "5.044600009918213\n",
      "4.904756546020508\n",
      "5.3327717781066895\n",
      "6.507157802581787\n",
      "4.999985694885254\n",
      "4.698633193969727\n",
      "6.233627796173096\n",
      "5.809480667114258\n",
      "5.761600017547607\n",
      "4.763670444488525\n",
      "3.5145227909088135\n",
      "4.965522766113281\n",
      "5.534087657928467\n",
      "5.341494083404541\n",
      "5.712918758392334\n",
      "5.7190985679626465\n",
      "6.131692409515381\n",
      "5.886274814605713\n",
      "6.887790203094482\n",
      "5.130557537078857\n",
      "4.979313373565674\n",
      "6.868724822998047\n",
      "5.6310954093933105\n",
      "6.572482585906982\n",
      "6.599813461303711\n",
      "5.209616661071777\n",
      "6.595041751861572\n",
      "5.366967678070068\n",
      "7.4745049476623535\n",
      "5.543899059295654\n",
      "5.185178279876709\n",
      "5.885373592376709\n",
      "4.493879318237305\n",
      "5.315780162811279\n",
      "5.590160846710205\n",
      "5.138085842132568\n",
      "5.192696571350098\n",
      "5.998181343078613\n",
      "5.171864032745361\n",
      "5.243040084838867\n",
      "4.9479265213012695\n",
      "5.6474127769470215\n",
      "4.8082380294799805\n",
      "4.964057922363281\n",
      "4.34766149520874\n",
      "5.83112096786499\n",
      "5.037446975708008\n",
      "5.057590007781982\n",
      "5.309281349182129\n",
      "5.487044811248779\n",
      "5.3555145263671875\n",
      "6.833052158355713\n",
      "4.849365234375\n",
      "3.1604456901550293\n",
      "5.997947692871094\n",
      "5.4272003173828125\n",
      "5.135213851928711\n",
      "5.663061618804932\n",
      "5.7748003005981445\n",
      "6.25756311416626\n",
      "4.5704545974731445\n",
      "5.8851728439331055\n",
      "5.772267818450928\n",
      "5.08222770690918\n",
      "4.371889114379883\n",
      "6.567382335662842\n",
      "4.467804908752441\n",
      "4.399838447570801\n",
      "4.909761428833008\n",
      "5.609278678894043\n",
      "4.695003032684326\n",
      "5.870797157287598\n",
      "5.148784160614014\n",
      "5.310116291046143\n",
      "4.204395294189453\n",
      "3.8091001510620117\n",
      "5.7903008460998535\n",
      "4.0641021728515625\n",
      "4.8570661544799805\n",
      "5.089841842651367\n",
      "6.039651870727539\n",
      "4.06379508972168\n",
      "4.827203750610352\n",
      "5.568697452545166\n",
      "5.1906609535217285\n",
      "5.530444622039795\n",
      "4.293313503265381\n",
      "4.857926845550537\n",
      "6.25069522857666\n",
      "5.282059669494629\n",
      "5.353330612182617\n",
      "3.724367380142212\n",
      "4.58735466003418\n",
      "4.438846588134766\n",
      "4.7519073486328125\n",
      "4.239187717437744\n",
      "4.459609508514404\n",
      "4.740970611572266\n",
      "5.80806827545166\n",
      "4.5817975997924805\n",
      "5.868867874145508\n",
      "4.807109832763672\n",
      "4.92371940612793\n",
      "4.548604965209961\n",
      "5.376331329345703\n",
      "4.749969959259033\n",
      "5.255151271820068\n",
      "5.135663032531738\n",
      "3.5877819061279297\n",
      "5.829182147979736\n",
      "3.8054685592651367\n",
      "4.353519916534424\n",
      "4.685389995574951\n",
      "4.267516613006592\n",
      "4.9630303382873535\n",
      "4.696218967437744\n",
      "4.814754962921143\n",
      "4.677156925201416\n",
      "5.189875602722168\n",
      "4.119752883911133\n",
      "5.340835094451904\n",
      "5.278346538543701\n",
      "4.223016738891602\n",
      "3.6587281227111816\n",
      "5.161317348480225\n",
      "4.660780429840088\n",
      "4.353719234466553\n",
      "4.541450500488281\n",
      "5.818777561187744\n",
      "4.1644086837768555\n",
      "4.445969581604004\n",
      "4.59149694442749\n",
      "4.833356857299805\n",
      "5.46728515625\n",
      "5.8016767501831055\n",
      "5.110622882843018\n",
      "5.172310829162598\n",
      "4.931380271911621\n",
      "3.776887893676758\n",
      "5.595399379730225\n",
      "3.559812068939209\n",
      "4.622477054595947\n",
      "3.859668493270874\n",
      "3.114234209060669\n",
      "3.842556953430176\n",
      "3.2186052799224854\n",
      "4.830902099609375\n",
      "4.429008483886719\n",
      "4.167133808135986\n",
      "4.160722255706787\n",
      "3.9662857055664062\n",
      "4.694163799285889\n",
      "3.6973583698272705\n",
      "4.010140419006348\n",
      "4.552703380584717\n",
      "3.659511089324951\n",
      "5.010691165924072\n",
      "4.794575214385986\n",
      "4.3836517333984375\n",
      "3.474170446395874\n",
      "4.6693644523620605\n",
      "4.25148868560791\n",
      "4.030648708343506\n",
      "4.786528587341309\n",
      "4.152074337005615\n",
      "4.101268291473389\n",
      "4.298771858215332\n",
      "4.249672889709473\n",
      "3.404893159866333\n",
      "3.7122139930725098\n",
      "2.990112781524658\n",
      "3.1951239109039307\n",
      "3.3440678119659424\n",
      "3.6236445903778076\n",
      "3.4591689109802246\n",
      "3.786370277404785\n",
      "4.56372594833374\n",
      "3.4462904930114746\n",
      "3.2796170711517334\n",
      "3.764108180999756\n",
      "3.424290418624878\n",
      "3.623070240020752\n",
      "3.6624865531921387\n",
      "4.109236240386963\n",
      "4.235779285430908\n",
      "3.652592658996582\n",
      "3.583491325378418\n",
      "3.1501471996307373\n",
      "3.969309091567993\n",
      "3.8416314125061035\n",
      "4.679281711578369\n",
      "3.708266019821167\n",
      "3.3306076526641846\n",
      "4.928070545196533\n",
      "3.64955997467041\n",
      "4.3861470222473145\n",
      "4.7044878005981445\n",
      "3.712123155593872\n",
      "3.71303653717041\n",
      "3.8811094760894775\n",
      "4.197732448577881\n",
      "3.5886082649230957\n",
      "3.6440694332122803\n",
      "4.419003963470459\n",
      "3.1713333129882812\n",
      "3.2643215656280518\n",
      "3.5690224170684814\n",
      "3.3043434619903564\n",
      "3.327275037765503\n",
      "3.687798023223877\n",
      "3.486532688140869\n",
      "3.512955665588379\n",
      "2.9872241020202637\n",
      "3.4695472717285156\n",
      "3.869198799133301\n",
      "5.047295093536377\n",
      "3.358856439590454\n",
      "3.4612438678741455\n",
      "4.079590797424316\n",
      "3.5231683254241943\n",
      "3.9214558601379395\n",
      "3.9047915935516357\n",
      "4.240732669830322\n",
      "3.534827947616577\n",
      "3.3730082511901855\n",
      "3.321385145187378\n",
      "3.573002815246582\n",
      "3.27577805519104\n",
      "3.966113805770874\n",
      "3.4483253955841064\n",
      "3.269606351852417\n",
      "3.2831995487213135\n",
      "3.109172821044922\n",
      "4.28774356842041\n",
      "3.831702470779419\n",
      "3.054271936416626\n",
      "3.5853559970855713\n",
      "3.404921531677246\n",
      "3.7553484439849854\n",
      "4.11590576171875\n",
      "3.207026243209839\n",
      "3.1503798961639404\n",
      "4.570570468902588\n",
      "3.5748279094696045\n",
      "4.086088180541992\n",
      "3.603111982345581\n",
      "5.087245941162109\n",
      "3.627056837081909\n",
      "3.4783108234405518\n",
      "5.079242706298828\n",
      "3.7946929931640625\n",
      "3.0819809436798096\n",
      "3.7839090824127197\n",
      "4.099632740020752\n",
      "3.796285390853882\n",
      "3.690908908843994\n",
      "3.8396220207214355\n",
      "3.294172763824463\n",
      "3.9345951080322266\n",
      "3.1786739826202393\n",
      "3.4670162200927734\n",
      "3.2379298210144043\n",
      "3.516068935394287\n",
      "4.033939361572266\n",
      "3.175912857055664\n",
      "2.6334474086761475\n",
      "2.9192183017730713\n",
      "3.9947052001953125\n",
      "3.56723952293396\n",
      "3.4038267135620117\n",
      "4.06748104095459\n",
      "3.0764846801757812\n",
      "2.8144724369049072\n",
      "3.4659299850463867\n",
      "3.1203575134277344\n",
      "3.149726390838623\n",
      "3.7889413833618164\n",
      "3.193812847137451\n",
      "2.864530563354492\n",
      "3.089583396911621\n",
      "3.8999080657958984\n",
      "3.4153378009796143\n",
      "2.8204140663146973\n",
      "3.54316782951355\n",
      "4.0926995277404785\n",
      "2.8193130493164062\n",
      "3.1638998985290527\n",
      "3.712703227996826\n",
      "3.07605242729187\n",
      "3.4929699897766113\n",
      "2.751967191696167\n",
      "3.372447967529297\n",
      "3.9356818199157715\n",
      "3.5199387073516846\n",
      "2.6632680892944336\n",
      "2.815927743911743\n",
      "4.025128364562988\n",
      "3.2678110599517822\n",
      "2.980621814727783\n",
      "3.1677308082580566\n",
      "2.8387670516967773\n",
      "3.3160362243652344\n",
      "3.2025046348571777\n",
      "3.7409684658050537\n",
      "3.495082139968872\n",
      "2.905684232711792\n",
      "3.3741307258605957\n",
      "3.2339091300964355\n",
      "2.7064499855041504\n",
      "3.450314998626709\n",
      "2.87235426902771\n",
      "3.4443438053131104\n",
      "2.595682144165039\n",
      "3.9291794300079346\n",
      "2.8618640899658203\n",
      "2.9502861499786377\n",
      "3.511873722076416\n",
      "2.9394638538360596\n",
      "3.7907519340515137\n",
      "3.171543598175049\n",
      "2.921391248703003\n",
      "2.399688720703125\n",
      "3.0190651416778564\n",
      "2.7689971923828125\n",
      "3.1646416187286377\n",
      "2.794222831726074\n",
      "4.001061916351318\n",
      "3.3615100383758545\n",
      "2.935070753097534\n",
      "2.547342300415039\n",
      "4.11720085144043\n",
      "2.8212404251098633\n",
      "2.7725636959075928\n",
      "3.003798246383667\n",
      "3.275754690170288\n",
      "3.3557305335998535\n",
      "2.843630790710449\n",
      "2.7513718605041504\n",
      "3.178321123123169\n",
      "3.998504638671875\n",
      "3.4301609992980957\n",
      "3.034102201461792\n",
      "2.5970497131347656\n",
      "3.581491708755493\n",
      "3.7604031562805176\n",
      "2.6549770832061768\n",
      "3.1623189449310303\n",
      "2.8530595302581787\n",
      "3.198716878890991\n",
      "3.5541017055511475\n",
      "2.6723430156707764\n",
      "3.1686480045318604\n",
      "3.340486526489258\n",
      "2.911496162414551\n",
      "2.871291399002075\n",
      "2.4604849815368652\n",
      "3.0731334686279297\n",
      "2.8485798835754395\n",
      "2.8648414611816406\n",
      "2.6940975189208984\n",
      "3.7804150581359863\n",
      "3.0267133712768555\n",
      "3.03200101852417\n",
      "2.3650314807891846\n",
      "2.9741532802581787\n",
      "2.9712133407592773\n",
      "2.9224355220794678\n",
      "3.315676689147949\n",
      "2.4235024452209473\n",
      "2.75435733795166\n",
      "3.3138229846954346\n",
      "3.3101468086242676\n",
      "3.1330502033233643\n",
      "2.842134714126587\n",
      "2.968031167984009\n",
      "2.759624481201172\n",
      "3.343219757080078\n",
      "3.3266992568969727\n",
      "3.036855459213257\n",
      "3.21328067779541\n",
      "2.6522791385650635\n",
      "2.626013994216919\n",
      "2.802686929702759\n",
      "2.187185049057007\n",
      "2.9523112773895264\n",
      "2.9074432849884033\n",
      "2.033914566040039\n",
      "3.0493242740631104\n",
      "2.2216222286224365\n",
      "2.8391222953796387\n",
      "3.648289918899536\n",
      "3.093465805053711\n",
      "2.9062886238098145\n",
      "3.0090994834899902\n",
      "3.116236448287964\n",
      "3.0453622341156006\n",
      "3.458571195602417\n",
      "2.80492901802063\n",
      "2.6539998054504395\n",
      "3.0497262477874756\n",
      "3.186861753463745\n",
      "2.4545319080352783\n",
      "3.251297950744629\n",
      "3.147693395614624\n",
      "2.704902172088623\n",
      "2.7337071895599365\n",
      "2.6209492683410645\n",
      "3.2694780826568604\n",
      "2.782097101211548\n",
      "2.666489601135254\n",
      "3.0352320671081543\n",
      "2.6264302730560303\n",
      "3.0998787879943848\n",
      "3.086038589477539\n",
      "2.9428844451904297\n",
      "3.0599920749664307\n",
      "2.992918014526367\n",
      "2.494314432144165\n",
      "2.9533443450927734\n",
      "2.77817964553833\n",
      "3.0655250549316406\n",
      "2.6997621059417725\n",
      "2.8011393547058105\n",
      "3.13016939163208\n",
      "3.067918539047241\n",
      "2.931569814682007\n",
      "2.8435959815979004\n",
      "3.4246773719787598\n",
      "2.7802114486694336\n",
      "2.946049451828003\n",
      "2.9168365001678467\n",
      "2.9881978034973145\n",
      "3.2320024967193604\n",
      "2.744642496109009\n",
      "3.035266876220703\n",
      "2.8192145824432373\n",
      "2.9674408435821533\n",
      "2.772984743118286\n",
      "2.8564250469207764\n",
      "2.877267599105835\n",
      "2.793931245803833\n",
      "3.064392566680908\n",
      "3.2077138423919678\n",
      "3.046675205230713\n",
      "3.1330273151397705\n",
      "3.2185699939727783\n",
      "3.076486110687256\n",
      "2.8896801471710205\n",
      "2.8910179138183594\n",
      "2.5513463020324707\n",
      "3.4277446269989014\n",
      "2.6068830490112305\n",
      "3.024188280105591\n",
      "2.807753324508667\n",
      "3.29538893699646\n",
      "2.9923360347747803\n",
      "3.0897305011749268\n",
      "3.6256089210510254\n",
      "2.7537448406219482\n",
      "2.843177080154419\n",
      "2.587041139602661\n",
      "2.9914956092834473\n",
      "3.003969192504883\n",
      "3.7323570251464844\n",
      "3.102043628692627\n",
      "3.248171091079712\n",
      "2.7631137371063232\n",
      "2.8155195713043213\n",
      "2.596817970275879\n",
      "3.792229175567627\n",
      "2.6561529636383057\n",
      "2.791877269744873\n",
      "3.0889158248901367\n",
      "2.5666041374206543\n",
      "2.6591081619262695\n",
      "3.200218439102173\n",
      "2.914153814315796\n",
      "2.810182571411133\n",
      "3.0726850032806396\n",
      "2.5359349250793457\n",
      "3.2044146060943604\n",
      "3.0351083278656006\n",
      "2.9751667976379395\n",
      "3.06333065032959\n",
      "2.964005947113037\n",
      "2.7694644927978516\n",
      "3.2139251232147217\n",
      "2.896627426147461\n",
      "2.5971739292144775\n",
      "2.5479979515075684\n",
      "3.2536909580230713\n",
      "3.2760438919067383\n",
      "2.7791199684143066\n",
      "2.6439666748046875\n",
      "2.979081153869629\n",
      "2.6176068782806396\n",
      "3.081925630569458\n",
      "3.2346951961517334\n",
      "2.6388065814971924\n",
      "3.105186700820923\n",
      "2.5791916847229004\n",
      "3.029491901397705\n",
      "2.761500120162964\n",
      "2.7311489582061768\n",
      "2.445523738861084\n",
      "2.580979108810425\n",
      "2.6890339851379395\n",
      "3.215195894241333\n",
      "3.06095027923584\n",
      "2.888460874557495\n",
      "2.2878222465515137\n",
      "2.7923200130462646\n",
      "2.6655995845794678\n",
      "3.0826077461242676\n",
      "2.8287007808685303\n",
      "3.2748608589172363\n",
      "2.970768451690674\n",
      "2.5802626609802246\n",
      "2.7091662883758545\n",
      "2.9484732151031494\n",
      "2.8157613277435303\n",
      "2.8333401679992676\n",
      "2.5218935012817383\n",
      "3.397195339202881\n",
      "2.6526708602905273\n",
      "2.6187915802001953\n",
      "2.800056219100952\n",
      "2.572594404220581\n",
      "2.667341470718384\n",
      "3.067517042160034\n",
      "2.6081135272979736\n",
      "3.2800941467285156\n",
      "3.574676513671875\n",
      "2.928823232650757\n",
      "2.862016201019287\n",
      "2.329987049102783\n",
      "3.0234997272491455\n",
      "2.7170703411102295\n",
      "2.8877151012420654\n",
      "3.0159101486206055\n",
      "2.512502431869507\n",
      "2.778473377227783\n",
      "2.8375279903411865\n",
      "2.9970381259918213\n",
      "2.761282444000244\n",
      "3.1065871715545654\n",
      "3.0412888526916504\n",
      "2.92429780960083\n",
      "3.0343003273010254\n",
      "3.468325138092041\n",
      "3.2108800411224365\n",
      "2.929553508758545\n",
      "2.6984424591064453\n",
      "2.8940043449401855\n",
      "2.7047884464263916\n",
      "2.632781982421875\n",
      "2.9162163734436035\n",
      "2.6438729763031006\n",
      "3.0893754959106445\n",
      "2.953658103942871\n",
      "3.2280027866363525\n",
      "2.6131985187530518\n",
      "3.173459529876709\n",
      "2.9912784099578857\n",
      "2.8781540393829346\n",
      "2.932018995285034\n",
      "3.069225549697876\n",
      "2.780726671218872\n",
      "3.017940044403076\n",
      "3.0819168090820312\n",
      "3.0627901554107666\n",
      "2.9711804389953613\n",
      "2.7389602661132812\n",
      "3.1049396991729736\n",
      "3.148484468460083\n",
      "3.172990322113037\n",
      "3.5032665729522705\n",
      "3.228861093521118\n",
      "2.5926594734191895\n",
      "3.1939034461975098\n",
      "2.8706488609313965\n",
      "3.6171720027923584\n",
      "2.9942257404327393\n",
      "2.9792964458465576\n",
      "3.673532247543335\n",
      "2.8492965698242188\n",
      "3.2595810890197754\n",
      "3.240525722503662\n",
      "2.959202289581299\n",
      "2.9246888160705566\n",
      "2.3706564903259277\n",
      "2.737619161605835\n",
      "3.237882137298584\n",
      "3.1462647914886475\n",
      "2.931576728820801\n",
      "3.119974136352539\n",
      "3.1588048934936523\n",
      "2.642314910888672\n",
      "3.541799306869507\n",
      "3.0635359287261963\n",
      "3.166898250579834\n",
      "3.0918915271759033\n",
      "3.2732222080230713\n",
      "3.040590763092041\n",
      "3.481849431991577\n",
      "3.6075923442840576\n",
      "3.5413320064544678\n",
      "2.9813170433044434\n",
      "3.3028883934020996\n",
      "2.874694347381592\n",
      "3.250615358352661\n",
      "3.0451409816741943\n",
      "3.7540032863616943\n",
      "3.6656246185302734\n",
      "3.0074918270111084\n",
      "3.4340567588806152\n",
      "3.050276041030884\n",
      "3.5131101608276367\n",
      "4.283215522766113\n",
      "3.3345184326171875\n",
      "3.326345205307007\n",
      "3.5899596214294434\n",
      "3.5801191329956055\n",
      "3.414444923400879\n",
      "3.141253709793091\n",
      "3.297602891921997\n",
      "3.7831101417541504\n",
      "2.7450571060180664\n",
      "3.5352513790130615\n",
      "4.522304058074951\n",
      "3.9103305339813232\n",
      "4.185755252838135\n",
      "3.2062931060791016\n",
      "3.7360754013061523\n",
      "3.3287596702575684\n",
      "2.546616315841675\n",
      "2.98972487449646\n",
      "3.9185073375701904\n",
      "3.338526487350464\n",
      "2.923922061920166\n",
      "3.214698314666748\n",
      "3.567596197128296\n",
      "3.3507635593414307\n",
      "3.534327268600464\n",
      "3.593244791030884\n",
      "3.0943031311035156\n",
      "3.056344509124756\n",
      "3.050520420074463\n",
      "4.085340976715088\n",
      "3.5591273307800293\n",
      "3.74543833732605\n",
      "3.122143030166626\n",
      "2.705373764038086\n",
      "3.497957706451416\n",
      "3.8941264152526855\n",
      "2.855501651763916\n",
      "4.161857604980469\n",
      "3.21232008934021\n",
      "4.212600231170654\n",
      "4.222904205322266\n",
      "3.591407299041748\n",
      "3.43649959564209\n",
      "3.0180504322052\n",
      "3.7145540714263916\n",
      "3.3828516006469727\n",
      "3.312958002090454\n",
      "4.384451866149902\n",
      "3.8202998638153076\n",
      "3.706613540649414\n",
      "4.208432674407959\n",
      "3.677774429321289\n",
      "3.9701714515686035\n",
      "3.3925602436065674\n",
      "3.486269235610962\n",
      "3.6663401126861572\n",
      "3.913534641265869\n",
      "4.282765865325928\n",
      "4.044693946838379\n",
      "3.8128578662872314\n",
      "2.603086471557617\n",
      "4.498637676239014\n",
      "5.034503936767578\n",
      "4.289145469665527\n",
      "3.585178852081299\n",
      "3.6892831325531006\n",
      "3.5406477451324463\n",
      "3.822427988052368\n",
      "3.303645133972168\n",
      "3.4430997371673584\n",
      "3.7373669147491455\n",
      "4.440396308898926\n",
      "3.7013041973114014\n",
      "3.227729558944702\n",
      "4.798282146453857\n",
      "3.8407232761383057\n",
      "4.272656440734863\n",
      "4.702512264251709\n",
      "6.692148208618164\n",
      "5.485321998596191\n",
      "4.890578746795654\n",
      "4.956273078918457\n",
      "5.722383499145508\n",
      "4.800350666046143\n",
      "3.9074177742004395\n",
      "4.183928489685059\n",
      "5.201805114746094\n",
      "4.74282693862915\n",
      "4.031008720397949\n",
      "5.318274974822998\n",
      "4.730107307434082\n",
      "4.906602382659912\n",
      "6.568958282470703\n",
      "7.04856014251709\n",
      "6.9434709548950195\n",
      "5.433339595794678\n",
      "4.16140079498291\n",
      "5.077648639678955\n",
      "5.051146030426025\n",
      "4.337253570556641\n",
      "6.050965309143066\n",
      "6.029240608215332\n",
      "6.674423694610596\n",
      "4.83601713180542\n",
      "6.141265392303467\n",
      "5.013888359069824\n",
      "5.466675758361816\n",
      "6.023351192474365\n",
      "5.967242240905762\n",
      "4.870494365692139\n",
      "4.201250076293945\n",
      "5.807921409606934\n",
      "6.417525291442871\n",
      "7.671017169952393\n",
      "5.325596332550049\n",
      "8.98408317565918\n",
      "9.598153114318848\n",
      "5.933088302612305\n",
      "9.268820762634277\n",
      "10.613668441772461\n",
      "7.60014009475708\n",
      "4.986198425292969\n",
      "4.762637138366699\n",
      "6.499724388122559\n",
      "6.245084762573242\n",
      "8.08951473236084\n",
      "5.269268989562988\n",
      "5.546821594238281\n",
      "5.656503677368164\n",
      "4.075076580047607\n"
     ]
    }
   ],
   "source": [
    "# using dynamic learning rate, to figure out impact of learning rate\n",
    "lri = []\n",
    "lossi = []\n",
    "for i in range(1000):\n",
    "    # minibatch construct with size = 32\n",
    "    # use below ix to index into X and Y\n",
    "    ix = torch.randint(0, X.shape[0], (32,))\n",
    "    \n",
    "    # forward pass\n",
    "    emb = C[X[ix]] # 32x3x2\n",
    "    h = torch.tanh(emb.view(-1, 6) @ W1 + b1) # 32x100\n",
    "    logits = h @ W2 + b2 # 32x27\n",
    "    loss = F.cross_entropy(logits, Y[ix])\n",
    "    print(loss.item())\n",
    "    \n",
    "    # backward pass\n",
    "    for p in parameters:\n",
    "        p.grad = None\n",
    "    loss.backward()\n",
    "    \n",
    "    # update\n",
    "    lr = lrs[i]\n",
    "    for p in parameters:\n",
    "        p.data += -lr * p.grad\n",
    "    \n",
    "    # track stats\n",
    "    lri.append(lr.item())\n",
    "    lossi.append(loss.item())"
   ],
   "metadata": {
    "collapsed": false,
    "ExecuteTime": {
     "end_time": "2023-12-09T19:45:05.618510Z",
     "start_time": "2023-12-09T19:45:05.406340Z"
    }
   },
   "id": "6d3fc5f161c0bbdc"
  },
  {
   "cell_type": "code",
   "execution_count": 219,
   "outputs": [
    {
     "data": {
      "text/plain": "[<matplotlib.lines.Line2D at 0x28df03550>]"
     },
     "execution_count": 219,
     "metadata": {},
     "output_type": "execute_result"
    },
    {
     "data": {
      "text/plain": "<Figure size 640x480 with 1 Axes>",
      "image/png": "[encoded data removed]"
     },
     "metadata": {},
     "output_type": "display_data"
    }
   ],
   "source": [
    "plt.plot(lri, lossi)\n",
    "\n",
    "# you can see below that there was higher instability\n",
    "# around 0.1 is actually a good learning rate, so we now have some confidence\n",
    "\n",
    "# In practice, you'd train for a while with 0.1, then decay by a factor of 10, and do a few more steps for some improvements"
   ],
   "metadata": {
    "collapsed": false,
    "ExecuteTime": {
     "end_time": "2023-12-09T19:45:06.950440Z",
     "start_time": "2023-12-09T19:45:06.890604Z"
    }
   },
   "id": "613785f42d28d24b"
  },
  {
   "cell_type": "code",
   "execution_count": 236,
   "outputs": [],
   "source": [
    "for _ in range(10000):\n",
    "    # minibatch construct with size = 32\n",
    "    ix = torch.randint(0, X.shape[0], (32,))\n",
    "    \n",
    "    # forward pass\n",
    "    emb = C[X[ix]] # 32x3x2\n",
    "    h = torch.tanh(emb.view(-1, 6) @ W1 + b1) # 32x100\n",
    "    logits = h @ W2 + b2 # 32x27\n",
    "    loss = F.cross_entropy(logits, Y[ix])\n",
    "    \n",
    "    # backward pass\n",
    "    for p in parameters:\n",
    "        p.grad = None\n",
    "    loss.backward()\n",
    "    \n",
    "    # update\n",
    "    lr = 0.001\n",
    "    for p in parameters:\n",
    "        p.data += -lr * p.grad"
   ],
   "metadata": {
    "collapsed": false,
    "ExecuteTime": {
     "end_time": "2023-12-09T19:48:51.890247Z",
     "start_time": "2023-12-09T19:48:49.878642Z"
    }
   },
   "id": "5fa12e80374bf8c0"
  },
  {
   "cell_type": "code",
   "execution_count": 237,
   "outputs": [
    {
     "data": {
      "text/plain": "tensor(2.3052, grad_fn=<NllLossBackward0>)"
     },
     "execution_count": 237,
     "metadata": {},
     "output_type": "execute_result"
    }
   ],
   "source": [
    "# overall loss\n",
    "emb = C[X]\n",
    "h = torch.tanh(emb.view(-1, 6) @ W1 + b1) # 228146x100\n",
    "logits = h @ W2 + b2\n",
    "loss = F.cross_entropy(logits, Y)\n",
    "loss"
   ],
   "metadata": {
    "collapsed": false,
    "ExecuteTime": {
     "end_time": "2023-12-09T19:48:52.779766Z",
     "start_time": "2023-12-09T19:48:52.724850Z"
    }
   },
   "id": "d960854d63265e33"
  },
  {
   "cell_type": "markdown",
   "source": [
    "# We have a better loss than bigram model 2.45, this is at 2.30\n",
    "\n",
    "# What's important to note here is that, we have a NN with around ~3k parameters. The more parameters we add, say 100,000 or millions, the model becomes more and more capable of over-fitting the training set, but essentially it will end up memorizing the training set => sampling from it will more likely just give the training data, and the loss on data not part of the training set can end up being quite high.\n",
    "\n",
    "# The standard approach to fix over-fitting is to split up the model into 3 parts -\n",
    "\n",
    "## Training Split (80%): This is used to optimize parameters (gradient descent)\n",
    "## Dev / Validation Split (10%): Train the hyperparameters, for example: size of hidden layer, size of embeddings, strength of regularization, ... essentially settings of NN\n",
    "## Test Split (10%): Used to evaluate performance of model at the end. We want to evaluate loss on test split very sparingly, so that we don't risk over-fitting the model to test data"
   ],
   "metadata": {
    "collapsed": false
   },
   "id": "65f8bbdfedb85e8d"
  },
  {
   "cell_type": "code",
   "execution_count": 307,
   "outputs": [
    {
     "name": "stdout",
     "output_type": "stream",
     "text": [
      "25626 3203 3204\n"
     ]
    }
   ],
   "source": [
    "# build the dataset\n",
    "\n",
    "def build_dataset(words):\n",
    "    block_size = 3\n",
    "    X, Y = [], []\n",
    "    \n",
    "    for w in words:\n",
    "        context = [0] * block_size\n",
    "        for ch in w + '.':\n",
    "            ix = stoi[ch]\n",
    "            X.append(context)\n",
    "            Y.append(ix)\n",
    "            context = context[1:] + [ix]\n",
    "    X = torch.tensor(X)\n",
    "    Y = torch.tensor(Y)\n",
    "    return X, Y\n",
    "\n",
    "import random\n",
    "random.seed(42)\n",
    "random.shuffle(words)\n",
    "n1 = int(0.8*len(words))\n",
    "n2 = int(0.9*len(words))\n",
    "\n",
    "Xtr, Ytr = build_dataset(words[:n1])\n",
    "Xdev, Ydev = build_dataset(words[n1:n2])\n",
    "Xte, Yte = build_dataset(words[n2:])\n",
    "\n",
    "print(n1, n2-n1, len(words) - n2)"
   ],
   "metadata": {
    "collapsed": false,
    "ExecuteTime": {
     "end_time": "2023-12-10T01:19:10.232534Z",
     "start_time": "2023-12-10T01:19:09.965016Z"
    }
   },
   "id": "a8d8d0b3be3a2dd9"
  },
  {
   "cell_type": "code",
   "execution_count": 319,
   "outputs": [],
   "source": [
    "lossi, stepi = [], []\n",
    "\n",
    "# run five times with 0.1 and with 0.05 two times\n",
    "for i in range(30000):\n",
    "    # minibatch construct with size = 32\n",
    "    ix = torch.randint(0, Xtr.shape[0], (32,))\n",
    "    \n",
    "    # forward pass\n",
    "    emb = C[Xtr[ix]] # 32x3x2\n",
    "    h = torch.tanh(emb.view(-1, 6) @ W1 + b1) # 32x100\n",
    "    logits = h @ W2 + b2 # 32x27\n",
    "    loss = F.cross_entropy(logits, Ytr[ix])\n",
    "    \n",
    "    # backward pass\n",
    "    for p in parameters:\n",
    "        p.grad = None\n",
    "    loss.backward()\n",
    "    \n",
    "    # update\n",
    "    lr = 0.05\n",
    "    for p in parameters:\n",
    "        p.data += -lr * p.grad\n",
    "    \n",
    "    # track stats\n",
    "    lossi.append(loss.item())\n",
    "    stepi.append(i)"
   ],
   "metadata": {
    "collapsed": false,
    "ExecuteTime": {
     "end_time": "2023-12-10T01:21:27.046108Z",
     "start_time": "2023-12-10T01:21:19.839722Z"
    }
   },
   "id": "c8f2617f77952392"
  },
  {
   "cell_type": "code",
   "execution_count": 309,
   "outputs": [
    {
     "data": {
      "text/plain": "[<matplotlib.lines.Line2D at 0x28dc6ce10>]"
     },
     "execution_count": 309,
     "metadata": {},
     "output_type": "execute_result"
    },
    {
     "data": {
      "text/plain": "<Figure size 640x480 with 1 Axes>",
      "image/png": "[encoded data removed]"
     },
     "metadata": {},
     "output_type": "display_data"
    }
   ],
   "source": [
    "plt.plot(stepi, lossi)"
   ],
   "metadata": {
    "collapsed": false,
    "ExecuteTime": {
     "end_time": "2023-12-10T01:19:25.108857Z",
     "start_time": "2023-12-10T01:19:25.038249Z"
    }
   },
   "id": "40e789ea0ee085f"
  },
  {
   "cell_type": "code",
   "execution_count": 320,
   "outputs": [
    {
     "name": "stdout",
     "output_type": "stream",
     "text": [
      "tensor(2.2979, grad_fn=<NllLossBackward0>)\n",
      "tensor(2.3100, grad_fn=<NllLossBackward0>)\n"
     ]
    }
   ],
   "source": [
    "# overall loss\n",
    "def overall_loss(X, Y):\n",
    "    emb = C[X]\n",
    "    h = torch.tanh(emb.view(-1, 6) @ W1 + b1)\n",
    "    logits = h @ W2 + b2\n",
    "    return F.cross_entropy(logits, Y)    \n",
    "\n",
    "print(overall_loss(Xtr, Ytr))\n",
    "print(overall_loss(Xdev, Ydev))\n",
    "\n",
    "# we see the loss is similar across training and dev data\n",
    "# so, we can be confident it's not over fitting\n",
    "\n",
    "# if dev loss is roughly equal to training loss, we can assume the model is under-fitting. which typically means that the network is small, we'll increase the network size below"
   ],
   "metadata": {
    "collapsed": false,
    "ExecuteTime": {
     "end_time": "2023-12-10T01:21:31.583912Z",
     "start_time": "2023-12-10T01:21:31.481955Z"
    }
   },
   "id": "9f516a438506847a"
  },
  {
   "cell_type": "code",
   "execution_count": 306,
   "outputs": [
    {
     "name": "stdout",
     "output_type": "stream",
     "text": [
      "10281\n"
     ]
    }
   ],
   "source": [
    "# 6x300x27 neural net\n",
    "g = torch.Generator().manual_seed(2147483647)\n",
    "C = torch.randn((27, 2), generator=g)\n",
    "W1 = torch.randn((6, 300), generator=g)\n",
    "b1 = torch.randn(300, generator=g)\n",
    "W2 = torch.randn((300,27), generator=g)\n",
    "b2 = torch.randn(27, generator=g)\n",
    "parameters = [C, W1, b1, W2, b2]\n",
    "for p in parameters:\n",
    "    p.requires_grad = True\n",
    "    \n",
    "print(sum(p.nelement() for p in parameters))"
   ],
   "metadata": {
    "collapsed": false,
    "ExecuteTime": {
     "end_time": "2023-12-10T01:19:05.503430Z",
     "start_time": "2023-12-10T01:19:05.494700Z"
    }
   },
   "id": "18c85d6f8c6cc7fc"
  },
  {
   "cell_type": "code",
   "execution_count": 321,
   "outputs": [
    {
     "data": {
      "text/plain": "<Figure size 800x800 with 1 Axes>",
      "image/png": "[encoded data removed]"
     },
     "metadata": {},
     "output_type": "display_data"
    }
   ],
   "source": [
    "# visualizing the 2 dimension vectors\n",
    "plt.figure(figsize=(8,8))\n",
    "plt.scatter(C[:,0].data, C[:,1].data, s=200)\n",
    "for i in range(C.shape[0]):\n",
    "    plt.text(C[i,0].item(), C[i,1].item(), itos[i], ha=\"center\", va=\"center\", color='white')\n",
    "plt.grid('minor')"
   ],
   "metadata": {
    "collapsed": false,
    "ExecuteTime": {
     "end_time": "2023-12-10T01:21:38.266675Z",
     "start_time": "2023-12-10T01:21:38.180893Z"
    }
   },
   "id": "7c79d4fd4bc86ee6"
  },
  {
   "cell_type": "markdown",
   "source": [
    "# interesting to see that aeiou are clustered\n",
    "# Things closer together are similar"
   ],
   "metadata": {
    "collapsed": false
   },
   "id": "91a24651abbab2d"
  },
  {
   "cell_type": "code",
   "execution_count": null,
   "outputs": [],
   "source": [
    "# at this point, since the increase in NN size hasn't significantly improved fitting, the constraint can be the embedding vectors. Let's make them bigger. Say, 10 dimensional embeddings."
   ],
   "metadata": {
    "collapsed": false
   },
   "id": "d55e5c00ec7ccf2d"
  },
  {
   "cell_type": "code",
   "execution_count": 337,
   "outputs": [
    {
     "name": "stdout",
     "output_type": "stream",
     "text": [
      "11897\n"
     ]
    }
   ],
   "source": [
    "# 30x200x27 neural net\n",
    "g = torch.Generator().manual_seed(2147483647)\n",
    "C = torch.randn((27, 10), generator=g)\n",
    "W1 = torch.randn((30, 200), generator=g)\n",
    "b1 = torch.randn(200, generator=g)\n",
    "W2 = torch.randn((200,27), generator=g)\n",
    "b2 = torch.randn(27, generator=g)\n",
    "parameters = [C, W1, b1, W2, b2]\n",
    "for p in parameters:\n",
    "    p.requires_grad = True\n",
    "    \n",
    "print(sum(p.nelement() for p in parameters))"
   ],
   "metadata": {
    "collapsed": false,
    "ExecuteTime": {
     "end_time": "2023-12-10T01:33:53.571621Z",
     "start_time": "2023-12-10T01:33:53.564020Z"
    }
   },
   "id": "a630555c0f49017b"
  },
  {
   "cell_type": "code",
   "execution_count": 338,
   "outputs": [],
   "source": [
    "lossi, stepi = [], []"
   ],
   "metadata": {
    "collapsed": false,
    "ExecuteTime": {
     "end_time": "2023-12-10T01:33:54.935585Z",
     "start_time": "2023-12-10T01:33:54.926518Z"
    }
   },
   "id": "edde5d3cd4ff6c18"
  },
  {
   "cell_type": "code",
   "execution_count": 339,
   "outputs": [],
   "source": [
    "for i in range(200000):\n",
    "    # minibatch construct with size = 32\n",
    "    ix = torch.randint(0, Xtr.shape[0], (32,))\n",
    "    \n",
    "    # forward pass\n",
    "    emb = C[Xtr[ix]] # 32x3x10\n",
    "    h = torch.tanh(emb.view(-1, 30) @ W1 + b1)\n",
    "    logits = h @ W2 + b2 # 32x27\n",
    "    loss = F.cross_entropy(logits, Ytr[ix])\n",
    "    \n",
    "    # backward pass\n",
    "    for p in parameters:\n",
    "        p.grad = None\n",
    "    loss.backward()\n",
    "    \n",
    "    # update\n",
    "    lr = 0.1 if i < 100000 else 0.01\n",
    "    for p in parameters:\n",
    "        p.data += -lr * p.grad\n",
    "    \n",
    "    # track stats\n",
    "    # we use log loss for tracking since log squashes the hockey-stick appearance of the previous graph, making it look nicer\n",
    "    lossi.append(loss.log10().item())\n",
    "    stepi.append(i)"
   ],
   "metadata": {
    "collapsed": false,
    "ExecuteTime": {
     "end_time": "2023-12-10T01:34:39.023286Z",
     "start_time": "2023-12-10T01:33:56.441710Z"
    }
   },
   "id": "4a583356b1ffdf2a"
  },
  {
   "cell_type": "code",
   "execution_count": 340,
   "outputs": [
    {
     "name": "stdout",
     "output_type": "stream",
     "text": [
      "tensor(2.1195, grad_fn=<NllLossBackward0>)\n",
      "tensor(2.1543, grad_fn=<NllLossBackward0>)\n"
     ]
    }
   ],
   "source": [
    "def overall_loss(X, Y):\n",
    "    emb = C[X]\n",
    "    h = torch.tanh(emb.view(-1, 30) @ W1 + b1)\n",
    "    logits = h @ W2 + b2\n",
    "    return F.cross_entropy(logits, Y)    \n",
    "\n",
    "print(overall_loss(Xtr, Ytr))\n",
    "print(overall_loss(Xdev, Ydev))"
   ],
   "metadata": {
    "collapsed": false,
    "ExecuteTime": {
     "end_time": "2023-12-10T01:34:56.837083Z",
     "start_time": "2023-12-10T01:34:56.767702Z"
    }
   },
   "id": "d66b7a62a5596a6b"
  },
  {
   "cell_type": "code",
   "execution_count": 334,
   "outputs": [
    {
     "data": {
      "text/plain": "[<matplotlib.lines.Line2D at 0x28dc6f050>]"
     },
     "execution_count": 334,
     "metadata": {},
     "output_type": "execute_result"
    },
    {
     "data": {
      "text/plain": "<Figure size 640x480 with 1 Axes>",
      "image/png": "[encoded data removed]"
     },
     "metadata": {},
     "output_type": "display_data"
    }
   ],
   "source": [
    "plt.plot(stepi, lossi)"
   ],
   "metadata": {
    "collapsed": false,
    "ExecuteTime": {
     "end_time": "2023-12-10T01:30:58.450547Z",
     "start_time": "2023-12-10T01:30:58.285456Z"
    }
   },
   "id": "e9a30ac8f715ff7f"
  },
  {
   "cell_type": "code",
   "execution_count": 456,
   "outputs": [
    {
     "name": "stdout",
     "output_type": "stream",
     "text": [
      "celie.\n",
      "coullus.\n",
      "ileighannell.\n",
      "imitta.\n",
      "nollyan.\n",
      "kaida.\n",
      "samiyah.\n",
      "javariiotap.\n",
      "mola.\n",
      "danio.\n"
     ]
    }
   ],
   "source": [
    "# sampling from the model\n",
    "\n",
    "g = torch.Generator().manual_seed(2147483647)\n",
    "\n",
    "for _ in range(10):\n",
    "    out = []\n",
    "    context = [0] * block_size\n",
    "    while True:\n",
    "        # until generating ., embed\n",
    "        emb = C[torch.tensor(context)]\n",
    "        h = torch.tanh(emb.view(-1, 30) @ W1 + b1)\n",
    "        logits = h @ W2 + b2\n",
    "        \n",
    "        # counts = logits.exp()\n",
    "        # prob = counts / counts.sum(1, keepdims=True)\n",
    "        # simpler to use softmax \n",
    "        prob = F.softmax(logits, dim=1)\n",
    "        \n",
    "        next = torch.multinomial(prob, num_samples=1, replacement=True, generator=g).item()\n",
    "        out.append(itos[next])\n",
    "        context = context[1:] + [next]\n",
    "        if next == 0: break\n",
    "    print(''.join(out))\n",
    "        \n",
    "    "
   ],
   "metadata": {
    "collapsed": false,
    "ExecuteTime": {
     "end_time": "2023-12-10T01:59:41.254228Z",
     "start_time": "2023-12-10T01:59:41.244721Z"
    }
   },
   "id": "9dcc995906f32917"
  }
 ],
 "metadata": {
  "kernelspec": {
   "display_name": "Python 3",
   "language": "python",
   "name": "python3"
  },
  "language_info": {
   "codemirror_mode": {
    "name": "ipython",
    "version": 2
   },
   "file_extension": ".py",
   "mimetype": "text/x-python",
   "name": "python",
   "nbconvert_exporter": "python",
   "pygments_lexer": "ipython2",
   "version": "2.7.6"
  }
 },
 "nbformat": 4,
 "nbformat_minor": 5
}
